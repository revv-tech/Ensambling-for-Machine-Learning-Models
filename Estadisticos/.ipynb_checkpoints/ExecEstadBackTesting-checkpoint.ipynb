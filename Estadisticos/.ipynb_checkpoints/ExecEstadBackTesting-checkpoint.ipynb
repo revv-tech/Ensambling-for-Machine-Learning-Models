{
 "cells": [
  {
   "cell_type": "code",
   "execution_count": 1,
   "id": "75a27518",
   "metadata": {},
   "outputs": [
    {
     "ename": "ModuleNotFoundError",
     "evalue": "No module named 'sktime'",
     "output_type": "error",
     "traceback": [
      "\u001b[1;31m---------------------------------------------------------------------------\u001b[0m",
      "\u001b[1;31mModuleNotFoundError\u001b[0m                       Traceback (most recent call last)",
      "\u001b[1;32mC:\\Users\\TIMESE~1\\AppData\\Local\\Temp\\2/ipykernel_2876/2130158992.py\u001b[0m in \u001b[0;36m<module>\u001b[1;34m\u001b[0m\n\u001b[0;32m      8\u001b[0m \u001b[1;32mimport\u001b[0m \u001b[0mre\u001b[0m\u001b[1;33m\u001b[0m\u001b[1;33m\u001b[0m\u001b[0m\n\u001b[0;32m      9\u001b[0m \u001b[1;32mimport\u001b[0m \u001b[0mglob\u001b[0m\u001b[1;33m\u001b[0m\u001b[1;33m\u001b[0m\u001b[0m\n\u001b[1;32m---> 10\u001b[1;33m \u001b[1;32mfrom\u001b[0m \u001b[0msktime\u001b[0m\u001b[1;33m.\u001b[0m\u001b[0mforecasting\u001b[0m\u001b[1;33m.\u001b[0m\u001b[0mets\u001b[0m \u001b[1;32mimport\u001b[0m \u001b[0mAutoETS\u001b[0m\u001b[1;33m\u001b[0m\u001b[1;33m\u001b[0m\u001b[0m\n\u001b[0m\u001b[0;32m     11\u001b[0m \u001b[1;32mfrom\u001b[0m \u001b[0mpmdarima\u001b[0m\u001b[1;33m.\u001b[0m\u001b[0marima\u001b[0m \u001b[1;32mimport\u001b[0m \u001b[0mauto_arima\u001b[0m\u001b[1;33m\u001b[0m\u001b[1;33m\u001b[0m\u001b[0m\n\u001b[0;32m     12\u001b[0m \u001b[1;32mfrom\u001b[0m \u001b[0msktime\u001b[0m\u001b[1;33m.\u001b[0m\u001b[0mforecasting\u001b[0m\u001b[1;33m.\u001b[0m\u001b[0mtheta\u001b[0m \u001b[1;32mimport\u001b[0m \u001b[0mThetaForecaster\u001b[0m\u001b[1;33m\u001b[0m\u001b[1;33m\u001b[0m\u001b[0m\n",
      "\u001b[1;31mModuleNotFoundError\u001b[0m: No module named 'sktime'"
     ]
    }
   ],
   "source": [
    "import os\n",
    "import pandas as pd\n",
    "from pandas import read_csv\n",
    "import numpy as np\n",
    "import pickle\n",
    "import math\n",
    "import time\n",
    "import re\n",
    "import glob\n",
    "from sktime.forecasting.ets import AutoETS\n",
    "from pmdarima.arima import auto_arima\n",
    "from sktime.forecasting.theta import ThetaForecaster\n",
    "from joblib import Parallel, delayed  # paralle process"
   ]
  },
  {
   "cell_type": "code",
   "execution_count": null,
   "id": "e959db47",
   "metadata": {},
   "outputs": [],
   "source": []
  },
  {
   "cell_type": "code",
   "execution_count": 58,
   "id": "a5aa0f1c",
   "metadata": {},
   "outputs": [],
   "source": [
    "'''    \n",
    "#######################################################################################\n",
    "#FUNCTION TO SPLIT TRAINING, VALIDATION AND TESTING IN INPUT AND OUTPUT FOR EACH DATASET\n",
    "########################################################################################\n",
    "\n",
    "#Arguments\n",
    "## data= list with numpy dataset of training, validation and testing\n",
    "## h = horizon output\n",
    "\n",
    "\n",
    "#Outputs\n",
    "## dat=List with input and output for training, validation and testing\n",
    "'''\n",
    "\n",
    "def dataSplitXy(data, h):\n",
    "    \n",
    "    # split X, y in train\n",
    "    x_trainCopy=data[0]\n",
    "    x_train=x_trainCopy[:,:-h]\n",
    "    y_train=x_trainCopy[:,-h:]\n",
    "\n",
    "    x_train=x_train.reshape((x_train.shape[0], x_train.shape[1],1))\n",
    "    y_train=y_train.reshape((y_train.shape[0], y_train.shape[1], 1))\n",
    "\n",
    "    # split X, y in val\n",
    "    x_valCopy=data[1]\n",
    "    x_val=x_valCopy[:,:-h]\n",
    "    y_val=x_valCopy[:,-h:]\n",
    "\n",
    "    x_val=x_val.reshape((x_val.shape[0], x_val.shape[1],1))\n",
    "    y_val=y_val.reshape((y_val.shape[0], y_val.shape[1],1))\n",
    "\n",
    "    \n",
    "     # split X, y in test\n",
    "    x_testCopy=data[2]\n",
    "    x_test=x_testCopy[:,:-h]\n",
    "    y_test=x_testCopy[:,-h:]\n",
    "\n",
    "    x_test=x_test.reshape((x_test.shape[0], x_test.shape[1],1))\n",
    "    y_test=y_test.reshape((y_test.shape[0], y_test.shape[1],1))\n",
    "    \n",
    "    dat=[x_train, y_train, x_val, y_val, x_test, y_test]\n",
    "    \n",
    "    return dat\n",
    "\n",
    "\n",
    "\n",
    "'''\n",
    "##########################################################################\n",
    "#FUNCTION FOR DATASET PREPARATION TO BE USED WITH A MACHINE LEARNING MODEL \n",
    "#########################################################################\n",
    "\n",
    "#Arguments\n",
    "##data= time serie, with panda or numpy\n",
    "## n_in = input window\n",
    "## n_out= forecast horizon\n",
    "\n",
    "#Outputs\n",
    "##tr=dataset for training with machine learning approach\n",
    "##te=dataset for testing with machine learning approach\n",
    "'''\n",
    "\n",
    "\n",
    "def series_to_supervised(data, n_in=1, n_out=1):\n",
    "    df = pd.DataFrame(data)\n",
    "    cols = list()\n",
    "    # input sequence (t-n, ... t-1)\n",
    "    for i in range(n_in, 0, -1):\n",
    "        cols.append(df.shift(i))\n",
    "    # forecast seque...................................................................................................................................................................................................................................................................................................................................................................................................................................................................................................................................................................................................................................nce (t, t+1, ... t+n)\n",
    "    for i in range(0, n_out):\n",
    "        cols.append(df.shift(-i))\n",
    "    # put it all together\n",
    "    agg = pd.concat(cols, axis=1)\n",
    "    \n",
    "    # drop rows with NaN values\n",
    "    agg.dropna(inplace=True)\n",
    "    \n",
    "    # Put names to the columns\n",
    "    ## names to input columns\n",
    "    a1=np.arange(n_in)\n",
    "    a1 = a1.astype(str) \n",
    "    a2=np.repeat('I',n_in)\n",
    "    a=np.core.defchararray.add(a2, a1)\n",
    "    \n",
    "    ## names to output columns\n",
    "    b1=np.arange(n_out)\n",
    "    b1 = b1.astype(str) \n",
    "    b2=np.repeat('O',n_out)\n",
    "    b=np.core.defchararray.add(b2, b1)\n",
    "    \n",
    "    ## change columna names by new names\n",
    "    agg.columns=np.append(a,b)\n",
    "    \n",
    "    #Index for train and test selection\n",
    "    last=18-n_out+1\n",
    "    prelast=last+n_out-1\n",
    "    \n",
    "    # Division in train and test\n",
    "    te=agg.iloc[-last:,:]\n",
    "    tr=agg.iloc[:-prelast,:]\n",
    "    \n",
    "    return tr,te\n",
    "\n",
    "\n",
    "def metrics(pre, real):\n",
    "    \n",
    "    # sMAPE\n",
    "    sMAPE=np.sum(np.abs(pre-real))/np.sum((pre+real))\n",
    "    \n",
    "    #MAE\n",
    "    \n",
    "    MAE=np.mean(np.abs(pre-real)/len(real))\n",
    "        \n",
    "    #MAPE\n",
    "    MAPE=np.mean(np.abs((real-pre)/real))\n",
    "    \n",
    "    return sMAPE, MAE, MAPE\n",
    "\n"
   ]
  },
  {
   "cell_type": "code",
   "execution_count": 56,
   "id": "68ad8bd1",
   "metadata": {},
   "outputs": [],
   "source": [
    "\n",
    "\n",
    "\n",
    "\n",
    "# Auto ETS\n",
    "def ets(tr):\n",
    "    modAutoETS = AutoETS(auto=True, initialization_method='heuristic', error='add', trend ='add', damped=True,seasonal='add' ,sp=12)\n",
    "    modAutoETS.fit(tr)\n",
    "    \n",
    "    return modAutoETS\n",
    "\n",
    "'''\n",
    "# Auto ETS\n",
    "def arima(tr):\n",
    "    modAutoARIMA = AutoARIMA(sp=12,d=1, max_p=5, max_q=5, max_P=5, max_Q=5,start_p=0, start_q=0 ,start_P=0,  start_Q=0,seasonal=True, stepwise=True, suppress_warnings=False, random_state=15)\n",
    "    modAutoARIMA.fit(tr)\n",
    "    \n",
    "    return modAutoARIMA\n",
    "'''\n",
    "\n",
    "\n",
    "\n",
    "# Auto ETS\n",
    "def arima2(tr):\n",
    "    modAutoARIMA = auto_arima(tr, seasonal=True, m=12, maxiter=25)    \n",
    "    return modAutoARIMA\n",
    "\n",
    "# Auto Theta\n",
    "def theta(tr):\n",
    "    modTheta = ThetaForecaster(sp=12)\n",
    "    modTheta.fit(tr)\n",
    "    return modTheta\n",
    "\n",
    "\n",
    "'''\n",
    "############################################################################\n",
    "#FUNCTION TO GET METRICS AND PREDICTIONS OF ETS, ARIMA, THETA\n",
    "#############################################################################\n",
    "\n",
    "#Arguments\n",
    "## serie= serie pandas, one time serie\n",
    "##funciones = List with the functions to execute statistical models\n",
    "##horizon= List with the output sizes\n",
    "##rep=int of number of repetitions\n",
    "## pathSave=path to save results\n",
    "\n",
    "#Outputs\n",
    "##results = numpy array with id of serie, idsd of model, output,  sMAPE  MAE, MAPE\n",
    "##predictionsList = list with predictions for each optimal model.\n",
    "\n",
    "#####################################################################\n",
    "'''\n",
    "\n",
    "\n",
    "def estadisModelsBackTesting(serie, funciones, horizon, rep, pathSave):\n",
    "    # list to save results\n",
    "    results=[]\n",
    "    predictionsList=[]\n",
    "    realList=[]\n",
    "    # Loop over each horizon\n",
    "    for h in horizon:\n",
    "        print('making horizon', h)\n",
    "        # horizon window\n",
    "        fh = np.arange(1, h+1) \n",
    "        fh2=int(h)\n",
    "        # index to finish training and begin testing\n",
    "        finTr=int(serie.shape[0]-h)\n",
    "        for i in range(rep):\n",
    "            print('making repetetition:', i, 'from horizon:', h)\n",
    "            # Divide serie in training and test\n",
    "            tr=serie[1:finTr]\n",
    "            te=serie[finTr:(finTr+h)]\n",
    "            tr=tr.values\n",
    "            te=te.values\n",
    "\n",
    "            # execute each function\n",
    "            for f in funciones:\n",
    "                mod=f(tr)\n",
    "                # make prediction\n",
    "                \n",
    "                if f==arima2:\n",
    "                    pre=mod.predict(fh2)\n",
    "                    \n",
    "                else:\n",
    "                    pre=mod.predict(fh)\n",
    "                    \n",
    "                # transpose prediction\n",
    "                preF=np.transpose(pre)\n",
    "                #  save prediction\n",
    "                predictionsList.append(preF)\n",
    "                \n",
    "                realList.append(te.reshape(1,-1))\n",
    "        \n",
    "                # metrics\n",
    "                results.append(metrics(preF, te.reshape(1,-1)))\n",
    "            # update count for backtesting\n",
    "            finTr=int(finTr-h)          \n",
    "   \n",
    "    # Final format of the metrics file  #######################################REVISAR DESDE AQUI\n",
    "    results=pd.DataFrame(results) \n",
    "    results.insert(0, \"id_serie\", np.repeat(int(serie[0]),len(results)), True)\n",
    "    results.insert(1,\"rep\", np.tile(np.repeat(np.arange(rep),len(funciones)),len(horizon)), True)\n",
    "    results.insert(2, \"id_model\",np.tile(['ets', 'theta', 'arima'], (len(horizon)*rep)) , True) #####\n",
    "    results.insert(3, \"output\",np.repeat(horizon,len(funciones)*rep), True)\n",
    "    results.columns=['id_serie', \"rep\", 'id_model', 'output', 'sMAPE', 'MAE', 'MAPE']\n",
    "        \n",
    "    \n",
    "    results.to_csv(pathSave+'met/'+'metricasEstad_'+str(int(serie[0])) +'.csv')\n",
    "    np.save(pathSave+'pred/'+'predictionsListEstad'+str(int(serie[0]))+'.npy',  predictionsList, allow_pickle=True) \n",
    "    np.save(pathSave+'real/'+'realListEstad'+str(int(serie[0]))+'.npy',  predictionsList, allow_pickle=True) \n",
    "   \n",
    "    return results,  predictionsList\n",
    "    #return pre, preF,te\n",
    "\n",
    "\n",
    "'''\n",
    "############################################################################\n",
    "#FUNCTION TO PARALLEL ETS, ARIMA, THETA FOR EACH TIME SERIE\n",
    "#############################################################################\n",
    "\n",
    "#Arguments\n",
    "## dataset= pandas dataset with the time series in rows\n",
    "## rep= int of number of repetitions\n",
    "##ids = numpy vector with ids of the time series that will be used\n",
    "## pathSave= path where the results and predictions will be save itt\n",
    "## core = int, number of cores to be used\n",
    "\n",
    "#Outputs\n",
    "##results = numpy array with id of serie, ids of model, output,  sMAPE  MAE, MAPE\n",
    "##predictionsList = list with predictions for each optimal model.\n",
    "\n",
    "#####################################################################\n",
    "'''\n",
    "    \n",
    "def  estadisModelsBackTestingParallel(dataset, rep, ids, pathSave, core):\n",
    "    parametros=[]\n",
    "    for k in range(ids.shape[0]):\n",
    "        serie=dataset.loc[dataset['Unnamed: 0']==int(ids[k])]\n",
    "        serie=serie.iloc[0]\n",
    "        serie.dropna(inplace=True)\n",
    "        parametros.append([serie, funciones,horizon, rep, pathSave])\n",
    "    \n",
    "    reTot=Parallel(n_jobs=core)(delayed(estadisModelsBackTesting)(serie, funciones, horizon,rep, pathSave) for serie, funciones, horizon, rep, pathSave in parametros)\n",
    "    # generating empty arrays to append results\n",
    "    metrics=np.empty((0,reTot[0][0].shape[1]))\n",
    "    lPred=[]\n",
    "\n",
    "    # append results \n",
    "    for k in range(len(reTot)):\n",
    "        # append in arrays\n",
    "        metrics=np.append(metrics, reTot[k][0], axis=0)\n",
    "        lPred=lPred+reTot[k][1]   \n",
    "\n",
    "    #save datasets\n",
    "    metrics=pd.DataFrame(metrics)\n",
    "    metrics.columns=['id_serie', \"rep\", 'id_model', 'output', 'sMAPE', 'MAE', 'MAPE']\n",
    "    metrics.to_csv(pathSave+'metricasEstad.csv')\n",
    "    np.save(pathSave+'predictionsListEstad.npy', lPred, allow_pickle=True) \n",
    "   \n",
    "        \n",
    "    return metrics, lPred\n",
    "\n",
    "\n",
    "\n",
    "'''\n",
    "############################################################################\n",
    "#FUNCTION TO EXECUTE ETS, ARIMA, THETA FOR EACH TIME SERIE\n",
    "#############################################################################\n",
    "\n",
    "#Arguments\n",
    "## dataset= pandas dataset with the time series in rows\n",
    "## ids = numpy vector with ids of the time series that will be used\n",
    "##funciones = List with the functions to execute statistical models\n",
    "##horizon= List with the output sizes\n",
    "##rep=int of number of repetitions\n",
    "## pathSave=path to save results\n",
    "\n",
    "\n",
    "#Outputs\n",
    "##results = numpy array with id of serie, ids of model, output,  sMAPE  MAE, MAPE\n",
    "##predictionsList = list with predictions for each optimal model.\n",
    "\n",
    "#####################################################################\n",
    "'''\n",
    "\n",
    "def estadisModelsBackTestingAll(dataset, ids, funciones, horizon, rep, pathSave):\n",
    "    for k in range(ids.shape[0]):\n",
    "        print('generating serie', k)\n",
    "        serie=dataset.loc[dataset['Unnamed: 0']==int(ids[k])]\n",
    "        serie=serie.iloc[0]\n",
    "        serie.dropna(inplace=True)\n",
    "        results, predictionsList=estadisModelsBackTesting(serie, funciones, horizon, rep, pathSave)"
   ]
  },
  {
   "cell_type": "code",
   "execution_count": 5,
   "id": "4a10ff09",
   "metadata": {},
   "outputs": [
    {
     "name": "stderr",
     "output_type": "stream",
     "text": [
      "C:\\Users\\marti\\AppData\\Local\\Temp\\ipykernel_7980\\2748239194.py:3: SettingWithCopyWarning: \n",
      "A value is trying to be set on a copy of a slice from a DataFrame\n",
      "\n",
      "See the caveats in the documentation: https://pandas.pydata.org/pandas-docs/stable/user_guide/indexing.html#returning-a-view-versus-a-copy\n",
      "  serie.dropna(inplace=True)\n",
      "c:\\python385\\lib\\site-packages\\sktime\\forecasting\\base\\adapters\\_statsmodels.py:50: FutureWarning: pandas.Int64Index is deprecated and will be removed from pandas in a future version. Use pandas.Index with the appropriate dtype instead.\n",
      "  if isinstance(y, pd.Series) and type(y.index) == pd.Int64Index:\n"
     ]
    },
    {
     "name": "stdout",
     "output_type": "stream",
     "text": [
      "making horizon 3\n",
      "making repetetition: 0 from horizon: 3\n"
     ]
    },
    {
     "name": "stderr",
     "output_type": "stream",
     "text": [
      "c:\\python385\\lib\\site-packages\\sktime\\forecasting\\base\\_fh.py:100: FutureWarning: pandas.Int64Index is deprecated and will be removed from pandas in a future version. Use pandas.Index with the appropriate dtype instead.\n",
      "  values = pd.Int64Index(values, dtype=int)\n",
      "c:\\python385\\lib\\site-packages\\sktime\\forecasting\\base\\adapters\\_statsmodels.py:50: FutureWarning: pandas.Int64Index is deprecated and will be removed from pandas in a future version. Use pandas.Index with the appropriate dtype instead.\n",
      "  if isinstance(y, pd.Series) and type(y.index) == pd.Int64Index:\n",
      "c:\\python385\\lib\\site-packages\\sktime\\forecasting\\base\\_fh.py:100: FutureWarning: pandas.Int64Index is deprecated and will be removed from pandas in a future version. Use pandas.Index with the appropriate dtype instead.\n",
      "  values = pd.Int64Index(values, dtype=int)\n",
      "c:\\python385\\lib\\site-packages\\numpy\\core\\fromnumeric.py:3440: RuntimeWarning: Mean of empty slice.\n",
      "  return _methods._mean(a, axis=axis, dtype=dtype,\n",
      "c:\\python385\\lib\\site-packages\\numpy\\core\\_methods.py:189: RuntimeWarning: invalid value encountered in double_scalars\n",
      "  ret = ret.dtype.type(ret / rcount)\n",
      "c:\\python385\\lib\\site-packages\\sktime\\forecasting\\base\\adapters\\_statsmodels.py:50: FutureWarning: pandas.Int64Index is deprecated and will be removed from pandas in a future version. Use pandas.Index with the appropriate dtype instead.\n",
      "  if isinstance(y, pd.Series) and type(y.index) == pd.Int64Index:\n",
      "c:\\python385\\lib\\site-packages\\sktime\\forecasting\\base\\_fh.py:100: FutureWarning: pandas.Int64Index is deprecated and will be removed from pandas in a future version. Use pandas.Index with the appropriate dtype instead.\n",
      "  values = pd.Int64Index(values, dtype=int)\n"
     ]
    },
    {
     "name": "stdout",
     "output_type": "stream",
     "text": [
      "making repetetition: 1 from horizon: 3\n"
     ]
    },
    {
     "name": "stderr",
     "output_type": "stream",
     "text": [
      "c:\\python385\\lib\\site-packages\\sktime\\forecasting\\base\\adapters\\_statsmodels.py:50: FutureWarning: pandas.Int64Index is deprecated and will be removed from pandas in a future version. Use pandas.Index with the appropriate dtype instead.\n",
      "  if isinstance(y, pd.Series) and type(y.index) == pd.Int64Index:\n",
      "c:\\python385\\lib\\site-packages\\sktime\\forecasting\\base\\_fh.py:100: FutureWarning: pandas.Int64Index is deprecated and will be removed from pandas in a future version. Use pandas.Index with the appropriate dtype instead.\n",
      "  values = pd.Int64Index(values, dtype=int)\n",
      "c:\\python385\\lib\\site-packages\\numpy\\core\\fromnumeric.py:3440: RuntimeWarning: Mean of empty slice.\n",
      "  return _methods._mean(a, axis=axis, dtype=dtype,\n",
      "c:\\python385\\lib\\site-packages\\numpy\\core\\_methods.py:189: RuntimeWarning: invalid value encountered in double_scalars\n",
      "  ret = ret.dtype.type(ret / rcount)\n",
      "c:\\python385\\lib\\site-packages\\sktime\\forecasting\\base\\adapters\\_statsmodels.py:50: FutureWarning: pandas.Int64Index is deprecated and will be removed from pandas in a future version. Use pandas.Index with the appropriate dtype instead.\n",
      "  if isinstance(y, pd.Series) and type(y.index) == pd.Int64Index:\n"
     ]
    },
    {
     "name": "stdout",
     "output_type": "stream",
     "text": [
      "making horizon 12\n",
      "making repetetition: 0 from horizon: 12\n"
     ]
    },
    {
     "name": "stderr",
     "output_type": "stream",
     "text": [
      "c:\\python385\\lib\\site-packages\\sktime\\forecasting\\base\\_fh.py:100: FutureWarning: pandas.Int64Index is deprecated and will be removed from pandas in a future version. Use pandas.Index with the appropriate dtype instead.\n",
      "  values = pd.Int64Index(values, dtype=int)\n",
      "c:\\python385\\lib\\site-packages\\sktime\\forecasting\\base\\adapters\\_statsmodels.py:50: FutureWarning: pandas.Int64Index is deprecated and will be removed from pandas in a future version. Use pandas.Index with the appropriate dtype instead.\n",
      "  if isinstance(y, pd.Series) and type(y.index) == pd.Int64Index:\n",
      "c:\\python385\\lib\\site-packages\\sktime\\forecasting\\base\\_fh.py:100: FutureWarning: pandas.Int64Index is deprecated and will be removed from pandas in a future version. Use pandas.Index with the appropriate dtype instead.\n",
      "  values = pd.Int64Index(values, dtype=int)\n",
      "c:\\python385\\lib\\site-packages\\numpy\\core\\fromnumeric.py:3440: RuntimeWarning: Mean of empty slice.\n",
      "  return _methods._mean(a, axis=axis, dtype=dtype,\n",
      "c:\\python385\\lib\\site-packages\\numpy\\core\\_methods.py:189: RuntimeWarning: invalid value encountered in double_scalars\n",
      "  ret = ret.dtype.type(ret / rcount)\n",
      "c:\\python385\\lib\\site-packages\\sktime\\forecasting\\base\\adapters\\_statsmodels.py:50: FutureWarning: pandas.Int64Index is deprecated and will be removed from pandas in a future version. Use pandas.Index with the appropriate dtype instead.\n",
      "  if isinstance(y, pd.Series) and type(y.index) == pd.Int64Index:\n"
     ]
    },
    {
     "name": "stdout",
     "output_type": "stream",
     "text": [
      "making repetetition: 1 from horizon: 12\n"
     ]
    },
    {
     "name": "stderr",
     "output_type": "stream",
     "text": [
      "c:\\python385\\lib\\site-packages\\sktime\\forecasting\\base\\_fh.py:100: FutureWarning: pandas.Int64Index is deprecated and will be removed from pandas in a future version. Use pandas.Index with the appropriate dtype instead.\n",
      "  values = pd.Int64Index(values, dtype=int)\n",
      "c:\\python385\\lib\\site-packages\\sktime\\forecasting\\base\\adapters\\_statsmodels.py:50: FutureWarning: pandas.Int64Index is deprecated and will be removed from pandas in a future version. Use pandas.Index with the appropriate dtype instead.\n",
      "  if isinstance(y, pd.Series) and type(y.index) == pd.Int64Index:\n",
      "c:\\python385\\lib\\site-packages\\sktime\\forecasting\\base\\_fh.py:100: FutureWarning: pandas.Int64Index is deprecated and will be removed from pandas in a future version. Use pandas.Index with the appropriate dtype instead.\n",
      "  values = pd.Int64Index(values, dtype=int)\n",
      "c:\\python385\\lib\\site-packages\\numpy\\core\\fromnumeric.py:3440: RuntimeWarning: Mean of empty slice.\n",
      "  return _methods._mean(a, axis=axis, dtype=dtype,\n",
      "c:\\python385\\lib\\site-packages\\numpy\\core\\_methods.py:189: RuntimeWarning: invalid value encountered in double_scalars\n",
      "  ret = ret.dtype.type(ret / rcount)\n",
      "c:\\python385\\lib\\site-packages\\numpy\\lib\\npyio.py:528: VisibleDeprecationWarning: Creating an ndarray from ragged nested sequences (which is a list-or-tuple of lists-or-tuples-or ndarrays with different lengths or shapes) is deprecated. If you meant to do this, you must specify 'dtype=object' when creating the ndarray.\n",
      "  arr = np.asanyarray(arr)\n"
     ]
    }
   ],
   "source": [
    "dataset=read_csv('C:/META_LEARNING/Economicas/economicas.csv') # load complete dataset\n",
    "serie=dataset.iloc[0,:]\n",
    "serie.dropna(inplace=True)\n",
    "horizon=[3, 12]\n",
    "funciones=[ets, theta, arima2]\n",
    "#funciones=[ets, theta]\n",
    "rep=2\n",
    "\n",
    "pathSave='C:/META_LEARNING/resultados/economicas/backtesting/ESTD/'\n",
    "results,  predictionsList=estadisModelsBackTesting(serie, funciones, horizon, rep, pathSave)\n",
    "\n",
    "#pre, preF,te=estadisModelsBackTesting(serie, funciones, horizon, rep, pathSave)"
   ]
  },
  {
   "cell_type": "code",
   "execution_count": 31,
   "id": "15ef0eb9",
   "metadata": {},
   "outputs": [
    {
     "name": "stderr",
     "output_type": "stream",
     "text": [
      "c:\\python385\\lib\\site-packages\\numpy\\lib\\npyio.py:528: VisibleDeprecationWarning: Creating an ndarray from ragged nested sequences (which is a list-or-tuple of lists-or-tuples-or ndarrays with different lengths or shapes) is deprecated. If you meant to do this, you must specify 'dtype=object' when creating the ndarray.\n",
      "  arr = np.asanyarray(arr)\n"
     ]
    }
   ],
   "source": [
    "dataset=read_csv('C:/META_LEARNING/Economicas/economicas.csv') # load complete dataset\n",
    "horizon=[3, 12]\n",
    "funciones=[ets, theta, arima2]\n",
    "rep=10\n",
    "ids=np.arange(12)\n",
    "core=6\n",
    "pathSave='C:/META_LEARNING/resultados/economicas/backtesting/ESTD/'\n",
    "\n",
    "metrics, lPred=estadisModelsBackTestingParallel(dataset, rep, ids, pathSave, core)"
   ]
  },
  {
   "cell_type": "code",
   "execution_count": 61,
   "id": "16f5ed7e",
   "metadata": {},
   "outputs": [
    {
     "name": "stderr",
     "output_type": "stream",
     "text": [
      "c:\\users\\marsolis\\appdata\\local\\programs\\python\\python38\\lib\\site-packages\\numpy\\core\\_asarray.py:136: VisibleDeprecationWarning: Creating an ndarray from ragged nested sequences (which is a list-or-tuple of lists-or-tuples-or ndarrays with different lengths or shapes) is deprecated. If you meant to do this, you must specify 'dtype=object' when creating the ndarray\n",
      "  return array(a, dtype, copy=False, order=order, subok=True)\n"
     ]
    },
    {
     "ename": "ValueError",
     "evalue": "not enough values to unpack (expected 3, got 2)",
     "output_type": "error",
     "traceback": [
      "\u001b[1;31m---------------------------------------------------------------------------\u001b[0m",
      "\u001b[1;31mValueError\u001b[0m                                Traceback (most recent call last)",
      "\u001b[1;32m<ipython-input-61-bfd3f0916074>\u001b[0m in \u001b[0;36m<module>\u001b[1;34m\u001b[0m\n\u001b[0;32m     14\u001b[0m \u001b[1;33m\u001b[0m\u001b[0m\n\u001b[0;32m     15\u001b[0m \u001b[1;33m\u001b[0m\u001b[0m\n\u001b[1;32m---> 16\u001b[1;33m \u001b[0mmetrics\u001b[0m\u001b[1;33m,\u001b[0m \u001b[0mlPred\u001b[0m\u001b[1;33m,\u001b[0m \u001b[0mreal\u001b[0m\u001b[1;33m=\u001b[0m\u001b[0mestadisModelsBackTestingParallel\u001b[0m\u001b[1;33m(\u001b[0m\u001b[0mdataset\u001b[0m\u001b[1;33m,\u001b[0m \u001b[0mrep\u001b[0m\u001b[1;33m,\u001b[0m \u001b[0mids\u001b[0m\u001b[1;33m,\u001b[0m \u001b[0mpathSave\u001b[0m\u001b[1;33m,\u001b[0m \u001b[0mcore\u001b[0m\u001b[1;33m)\u001b[0m\u001b[1;33m\u001b[0m\u001b[1;33m\u001b[0m\u001b[0m\n\u001b[0m",
      "\u001b[1;31mValueError\u001b[0m: not enough values to unpack (expected 3, got 2)"
     ]
    }
   ],
   "source": [
    "##################################### Backtesting FMI ###########################################\n",
    "\n",
    "\n",
    "dataset=read_csv('C:/META_LEARNING/Economicas/EconomicasFMI/economicas_normal_test.csv') # load complete dataset\n",
    "horizon=[3, 12]\n",
    "funciones=[ets, theta, arima2]\n",
    "rep=10\n",
    "core=6\n",
    "pathSave='C:/META_LEARNING/resultados/economicas/backtesting/FMI/ESTD/'\n",
    "\n",
    "\n",
    "# ids\n",
    "ids=np.array(dataset.iloc[:,0])\n",
    "\n",
    "\n",
    "metrics, lPred, =estadisModelsBackTestingParallel(dataset, rep, ids, pathSave, core)"
   ]
  },
  {
   "cell_type": "code",
   "execution_count": 48,
   "id": "bb12ddb7",
   "metadata": {},
   "outputs": [],
   "source": [
    "dataset=read_csv('C:/META_LEARNING/Economicas/EconomicasFMI/economicas_normal_test.csv') # load complete dataset\n",
    "horizon=[3, 12]\n",
    "funciones=[ets, theta, arima2]\n",
    "rep=4\n",
    "core=2\n",
    "pathSave='C:/META_LEARNING/resultados/economicas/backtesting/FMI/ESTD/probando/'\n",
    "\n",
    "\n",
    "# ids\n",
    "ids=np.array(dataset.iloc[:,0])\n",
    "ids=ids[0:2]"
   ]
  },
  {
   "cell_type": "code",
   "execution_count": null,
   "id": "58ee7847",
   "metadata": {},
   "outputs": [],
   "source": []
  },
  {
   "cell_type": "code",
   "execution_count": 41,
   "id": "0d77c4a8",
   "metadata": {},
   "outputs": [],
   "source": []
  },
  {
   "cell_type": "code",
   "execution_count": null,
   "id": "5d815914",
   "metadata": {},
   "outputs": [],
   "source": []
  },
  {
   "cell_type": "code",
   "execution_count": null,
   "id": "04e0464b",
   "metadata": {},
   "outputs": [],
   "source": []
  },
  {
   "cell_type": "code",
   "execution_count": null,
   "id": "9c6cf46d",
   "metadata": {},
   "outputs": [],
   "source": []
  },
  {
   "cell_type": "code",
   "execution_count": 60,
   "id": "c309c789",
   "metadata": {},
   "outputs": [
    {
     "name": "stderr",
     "output_type": "stream",
     "text": [
      "<ipython-input-60-d5a4850f89fb>:5: SettingWithCopyWarning: \n",
      "A value is trying to be set on a copy of a slice from a DataFrame\n",
      "\n",
      "See the caveats in the documentation: https://pandas.pydata.org/pandas-docs/stable/user_guide/indexing.html#returning-a-view-versus-a-copy\n",
      "  serie.dropna(inplace=True)\n",
      "c:\\users\\marsolis\\appdata\\local\\programs\\python\\python38\\lib\\site-packages\\statsmodels\\tsa\\exponential_smoothing\\ets.py:1135: RuntimeWarning: invalid value encountered in log\n",
      "  logL -= np.sum(np.log(yhat))\n",
      "c:\\users\\marsolis\\appdata\\local\\programs\\python\\python38\\lib\\site-packages\\scipy\\optimize\\_numdiff.py:557: RuntimeWarning: invalid value encountered in subtract\n",
      "  df = fun(x) - f0\n",
      "c:\\users\\marsolis\\appdata\\local\\programs\\python\\python38\\lib\\site-packages\\statsmodels\\base\\model.py:566: ConvergenceWarning: Maximum Likelihood optimization failed to converge. Check mle_retvals\n",
      "  warnings.warn(\"Maximum Likelihood optimization failed to \"\n",
      "c:\\users\\marsolis\\appdata\\local\\programs\\python\\python38\\lib\\site-packages\\statsmodels\\base\\model.py:566: ConvergenceWarning: Maximum Likelihood optimization failed to converge. Check mle_retvals\n",
      "  warnings.warn(\"Maximum Likelihood optimization failed to \"\n",
      "c:\\users\\marsolis\\appdata\\local\\programs\\python\\python38\\lib\\site-packages\\statsmodels\\base\\model.py:566: ConvergenceWarning: Maximum Likelihood optimization failed to converge. Check mle_retvals\n",
      "  warnings.warn(\"Maximum Likelihood optimization failed to \"\n",
      "c:\\users\\marsolis\\appdata\\local\\programs\\python\\python38\\lib\\site-packages\\statsmodels\\base\\model.py:566: ConvergenceWarning: Maximum Likelihood optimization failed to converge. Check mle_retvals\n",
      "  warnings.warn(\"Maximum Likelihood optimization failed to \"\n"
     ]
    },
    {
     "name": "stdout",
     "output_type": "stream",
     "text": [
      "making horizon 3\n",
      "making repetetition: 0 from horizon: 3\n",
      "making repetetition: 1 from horizon: 3\n"
     ]
    },
    {
     "name": "stderr",
     "output_type": "stream",
     "text": [
      "c:\\users\\marsolis\\appdata\\local\\programs\\python\\python38\\lib\\site-packages\\statsmodels\\tsa\\exponential_smoothing\\ets.py:1135: RuntimeWarning: invalid value encountered in log\n",
      "  logL -= np.sum(np.log(yhat))\n",
      "c:\\users\\marsolis\\appdata\\local\\programs\\python\\python38\\lib\\site-packages\\scipy\\optimize\\_numdiff.py:557: RuntimeWarning: invalid value encountered in subtract\n",
      "  df = fun(x) - f0\n",
      "c:\\users\\marsolis\\appdata\\local\\programs\\python\\python38\\lib\\site-packages\\statsmodels\\base\\model.py:566: ConvergenceWarning: Maximum Likelihood optimization failed to converge. Check mle_retvals\n",
      "  warnings.warn(\"Maximum Likelihood optimization failed to \"\n",
      "c:\\users\\marsolis\\appdata\\local\\programs\\python\\python38\\lib\\site-packages\\statsmodels\\base\\model.py:566: ConvergenceWarning: Maximum Likelihood optimization failed to converge. Check mle_retvals\n",
      "  warnings.warn(\"Maximum Likelihood optimization failed to \"\n",
      "c:\\users\\marsolis\\appdata\\local\\programs\\python\\python38\\lib\\site-packages\\statsmodels\\base\\model.py:566: ConvergenceWarning: Maximum Likelihood optimization failed to converge. Check mle_retvals\n",
      "  warnings.warn(\"Maximum Likelihood optimization failed to \"\n",
      "c:\\users\\marsolis\\appdata\\local\\programs\\python\\python38\\lib\\site-packages\\statsmodels\\base\\model.py:566: ConvergenceWarning: Maximum Likelihood optimization failed to converge. Check mle_retvals\n",
      "  warnings.warn(\"Maximum Likelihood optimization failed to \"\n"
     ]
    },
    {
     "name": "stdout",
     "output_type": "stream",
     "text": [
      "making repetetition: 2 from horizon: 3\n"
     ]
    },
    {
     "name": "stderr",
     "output_type": "stream",
     "text": [
      "c:\\users\\marsolis\\appdata\\local\\programs\\python\\python38\\lib\\site-packages\\statsmodels\\tsa\\exponential_smoothing\\ets.py:1135: RuntimeWarning: invalid value encountered in log\n",
      "  logL -= np.sum(np.log(yhat))\n",
      "c:\\users\\marsolis\\appdata\\local\\programs\\python\\python38\\lib\\site-packages\\scipy\\optimize\\_numdiff.py:557: RuntimeWarning: invalid value encountered in subtract\n",
      "  df = fun(x) - f0\n",
      "c:\\users\\marsolis\\appdata\\local\\programs\\python\\python38\\lib\\site-packages\\statsmodels\\base\\model.py:566: ConvergenceWarning: Maximum Likelihood optimization failed to converge. Check mle_retvals\n",
      "  warnings.warn(\"Maximum Likelihood optimization failed to \"\n",
      "c:\\users\\marsolis\\appdata\\local\\programs\\python\\python38\\lib\\site-packages\\statsmodels\\base\\model.py:566: ConvergenceWarning: Maximum Likelihood optimization failed to converge. Check mle_retvals\n",
      "  warnings.warn(\"Maximum Likelihood optimization failed to \"\n",
      "c:\\users\\marsolis\\appdata\\local\\programs\\python\\python38\\lib\\site-packages\\statsmodels\\base\\model.py:566: ConvergenceWarning: Maximum Likelihood optimization failed to converge. Check mle_retvals\n",
      "  warnings.warn(\"Maximum Likelihood optimization failed to \"\n",
      "c:\\users\\marsolis\\appdata\\local\\programs\\python\\python38\\lib\\site-packages\\statsmodels\\base\\model.py:566: ConvergenceWarning: Maximum Likelihood optimization failed to converge. Check mle_retvals\n",
      "  warnings.warn(\"Maximum Likelihood optimization failed to \"\n"
     ]
    },
    {
     "name": "stdout",
     "output_type": "stream",
     "text": [
      "making repetetition: 3 from horizon: 3\n"
     ]
    },
    {
     "name": "stderr",
     "output_type": "stream",
     "text": [
      "c:\\users\\marsolis\\appdata\\local\\programs\\python\\python38\\lib\\site-packages\\statsmodels\\tsa\\exponential_smoothing\\ets.py:1135: RuntimeWarning: invalid value encountered in log\n",
      "  logL -= np.sum(np.log(yhat))\n",
      "c:\\users\\marsolis\\appdata\\local\\programs\\python\\python38\\lib\\site-packages\\scipy\\optimize\\_numdiff.py:557: RuntimeWarning: invalid value encountered in subtract\n",
      "  df = fun(x) - f0\n",
      "c:\\users\\marsolis\\appdata\\local\\programs\\python\\python38\\lib\\site-packages\\statsmodels\\base\\model.py:566: ConvergenceWarning: Maximum Likelihood optimization failed to converge. Check mle_retvals\n",
      "  warnings.warn(\"Maximum Likelihood optimization failed to \"\n",
      "c:\\users\\marsolis\\appdata\\local\\programs\\python\\python38\\lib\\site-packages\\statsmodels\\base\\model.py:566: ConvergenceWarning: Maximum Likelihood optimization failed to converge. Check mle_retvals\n",
      "  warnings.warn(\"Maximum Likelihood optimization failed to \"\n",
      "c:\\users\\marsolis\\appdata\\local\\programs\\python\\python38\\lib\\site-packages\\statsmodels\\base\\model.py:566: ConvergenceWarning: Maximum Likelihood optimization failed to converge. Check mle_retvals\n",
      "  warnings.warn(\"Maximum Likelihood optimization failed to \"\n",
      "c:\\users\\marsolis\\appdata\\local\\programs\\python\\python38\\lib\\site-packages\\statsmodels\\base\\model.py:566: ConvergenceWarning: Maximum Likelihood optimization failed to converge. Check mle_retvals\n",
      "  warnings.warn(\"Maximum Likelihood optimization failed to \"\n"
     ]
    },
    {
     "name": "stdout",
     "output_type": "stream",
     "text": [
      "making repetetition: 4 from horizon: 3\n"
     ]
    },
    {
     "name": "stderr",
     "output_type": "stream",
     "text": [
      "c:\\users\\marsolis\\appdata\\local\\programs\\python\\python38\\lib\\site-packages\\statsmodels\\tsa\\exponential_smoothing\\ets.py:1135: RuntimeWarning: invalid value encountered in log\n",
      "  logL -= np.sum(np.log(yhat))\n",
      "c:\\users\\marsolis\\appdata\\local\\programs\\python\\python38\\lib\\site-packages\\scipy\\optimize\\_numdiff.py:557: RuntimeWarning: invalid value encountered in subtract\n",
      "  df = fun(x) - f0\n",
      "c:\\users\\marsolis\\appdata\\local\\programs\\python\\python38\\lib\\site-packages\\statsmodels\\base\\model.py:566: ConvergenceWarning: Maximum Likelihood optimization failed to converge. Check mle_retvals\n",
      "  warnings.warn(\"Maximum Likelihood optimization failed to \"\n",
      "c:\\users\\marsolis\\appdata\\local\\programs\\python\\python38\\lib\\site-packages\\statsmodels\\base\\model.py:566: ConvergenceWarning: Maximum Likelihood optimization failed to converge. Check mle_retvals\n",
      "  warnings.warn(\"Maximum Likelihood optimization failed to \"\n",
      "c:\\users\\marsolis\\appdata\\local\\programs\\python\\python38\\lib\\site-packages\\statsmodels\\base\\model.py:566: ConvergenceWarning: Maximum Likelihood optimization failed to converge. Check mle_retvals\n",
      "  warnings.warn(\"Maximum Likelihood optimization failed to \"\n",
      "c:\\users\\marsolis\\appdata\\local\\programs\\python\\python38\\lib\\site-packages\\statsmodels\\base\\model.py:566: ConvergenceWarning: Maximum Likelihood optimization failed to converge. Check mle_retvals\n",
      "  warnings.warn(\"Maximum Likelihood optimization failed to \"\n"
     ]
    },
    {
     "name": "stdout",
     "output_type": "stream",
     "text": [
      "making repetetition: 5 from horizon: 3\n"
     ]
    },
    {
     "name": "stderr",
     "output_type": "stream",
     "text": [
      "c:\\users\\marsolis\\appdata\\local\\programs\\python\\python38\\lib\\site-packages\\statsmodels\\tsa\\exponential_smoothing\\ets.py:1135: RuntimeWarning: invalid value encountered in log\n",
      "  logL -= np.sum(np.log(yhat))\n",
      "c:\\users\\marsolis\\appdata\\local\\programs\\python\\python38\\lib\\site-packages\\scipy\\optimize\\_numdiff.py:557: RuntimeWarning: invalid value encountered in subtract\n",
      "  df = fun(x) - f0\n",
      "c:\\users\\marsolis\\appdata\\local\\programs\\python\\python38\\lib\\site-packages\\statsmodels\\base\\model.py:566: ConvergenceWarning: Maximum Likelihood optimization failed to converge. Check mle_retvals\n",
      "  warnings.warn(\"Maximum Likelihood optimization failed to \"\n",
      "c:\\users\\marsolis\\appdata\\local\\programs\\python\\python38\\lib\\site-packages\\statsmodels\\base\\model.py:566: ConvergenceWarning: Maximum Likelihood optimization failed to converge. Check mle_retvals\n",
      "  warnings.warn(\"Maximum Likelihood optimization failed to \"\n",
      "c:\\users\\marsolis\\appdata\\local\\programs\\python\\python38\\lib\\site-packages\\statsmodels\\base\\model.py:566: ConvergenceWarning: Maximum Likelihood optimization failed to converge. Check mle_retvals\n",
      "  warnings.warn(\"Maximum Likelihood optimization failed to \"\n",
      "c:\\users\\marsolis\\appdata\\local\\programs\\python\\python38\\lib\\site-packages\\statsmodels\\base\\model.py:566: ConvergenceWarning: Maximum Likelihood optimization failed to converge. Check mle_retvals\n",
      "  warnings.warn(\"Maximum Likelihood optimization failed to \"\n"
     ]
    },
    {
     "name": "stdout",
     "output_type": "stream",
     "text": [
      "making repetetition: 6 from horizon: 3\n"
     ]
    },
    {
     "name": "stderr",
     "output_type": "stream",
     "text": [
      "c:\\users\\marsolis\\appdata\\local\\programs\\python\\python38\\lib\\site-packages\\statsmodels\\tsa\\exponential_smoothing\\ets.py:1135: RuntimeWarning: invalid value encountered in log\n",
      "  logL -= np.sum(np.log(yhat))\n",
      "c:\\users\\marsolis\\appdata\\local\\programs\\python\\python38\\lib\\site-packages\\scipy\\optimize\\_numdiff.py:557: RuntimeWarning: invalid value encountered in subtract\n",
      "  df = fun(x) - f0\n",
      "c:\\users\\marsolis\\appdata\\local\\programs\\python\\python38\\lib\\site-packages\\statsmodels\\base\\model.py:566: ConvergenceWarning: Maximum Likelihood optimization failed to converge. Check mle_retvals\n",
      "  warnings.warn(\"Maximum Likelihood optimization failed to \"\n",
      "c:\\users\\marsolis\\appdata\\local\\programs\\python\\python38\\lib\\site-packages\\statsmodels\\base\\model.py:566: ConvergenceWarning: Maximum Likelihood optimization failed to converge. Check mle_retvals\n",
      "  warnings.warn(\"Maximum Likelihood optimization failed to \"\n",
      "c:\\users\\marsolis\\appdata\\local\\programs\\python\\python38\\lib\\site-packages\\statsmodels\\base\\model.py:566: ConvergenceWarning: Maximum Likelihood optimization failed to converge. Check mle_retvals\n",
      "  warnings.warn(\"Maximum Likelihood optimization failed to \"\n",
      "c:\\users\\marsolis\\appdata\\local\\programs\\python\\python38\\lib\\site-packages\\statsmodels\\base\\model.py:566: ConvergenceWarning: Maximum Likelihood optimization failed to converge. Check mle_retvals\n",
      "  warnings.warn(\"Maximum Likelihood optimization failed to \"\n"
     ]
    },
    {
     "name": "stdout",
     "output_type": "stream",
     "text": [
      "making repetetition: 7 from horizon: 3\n"
     ]
    },
    {
     "name": "stderr",
     "output_type": "stream",
     "text": [
      "c:\\users\\marsolis\\appdata\\local\\programs\\python\\python38\\lib\\site-packages\\statsmodels\\tsa\\exponential_smoothing\\ets.py:1135: RuntimeWarning: invalid value encountered in log\n",
      "  logL -= np.sum(np.log(yhat))\n",
      "c:\\users\\marsolis\\appdata\\local\\programs\\python\\python38\\lib\\site-packages\\scipy\\optimize\\_numdiff.py:557: RuntimeWarning: invalid value encountered in subtract\n",
      "  df = fun(x) - f0\n",
      "c:\\users\\marsolis\\appdata\\local\\programs\\python\\python38\\lib\\site-packages\\statsmodels\\base\\model.py:566: ConvergenceWarning: Maximum Likelihood optimization failed to converge. Check mle_retvals\n",
      "  warnings.warn(\"Maximum Likelihood optimization failed to \"\n",
      "c:\\users\\marsolis\\appdata\\local\\programs\\python\\python38\\lib\\site-packages\\statsmodels\\base\\model.py:566: ConvergenceWarning: Maximum Likelihood optimization failed to converge. Check mle_retvals\n",
      "  warnings.warn(\"Maximum Likelihood optimization failed to \"\n",
      "c:\\users\\marsolis\\appdata\\local\\programs\\python\\python38\\lib\\site-packages\\statsmodels\\base\\model.py:566: ConvergenceWarning: Maximum Likelihood optimization failed to converge. Check mle_retvals\n",
      "  warnings.warn(\"Maximum Likelihood optimization failed to \"\n",
      "c:\\users\\marsolis\\appdata\\local\\programs\\python\\python38\\lib\\site-packages\\statsmodels\\base\\model.py:566: ConvergenceWarning: Maximum Likelihood optimization failed to converge. Check mle_retvals\n",
      "  warnings.warn(\"Maximum Likelihood optimization failed to \"\n"
     ]
    },
    {
     "name": "stdout",
     "output_type": "stream",
     "text": [
      "making repetetition: 8 from horizon: 3\n"
     ]
    },
    {
     "name": "stderr",
     "output_type": "stream",
     "text": [
      "c:\\users\\marsolis\\appdata\\local\\programs\\python\\python38\\lib\\site-packages\\statsmodels\\tsa\\exponential_smoothing\\ets.py:1135: RuntimeWarning: invalid value encountered in log\n",
      "  logL -= np.sum(np.log(yhat))\n",
      "c:\\users\\marsolis\\appdata\\local\\programs\\python\\python38\\lib\\site-packages\\scipy\\optimize\\_numdiff.py:557: RuntimeWarning: invalid value encountered in subtract\n",
      "  df = fun(x) - f0\n",
      "c:\\users\\marsolis\\appdata\\local\\programs\\python\\python38\\lib\\site-packages\\statsmodels\\base\\model.py:566: ConvergenceWarning: Maximum Likelihood optimization failed to converge. Check mle_retvals\n",
      "  warnings.warn(\"Maximum Likelihood optimization failed to \"\n",
      "c:\\users\\marsolis\\appdata\\local\\programs\\python\\python38\\lib\\site-packages\\statsmodels\\base\\model.py:566: ConvergenceWarning: Maximum Likelihood optimization failed to converge. Check mle_retvals\n",
      "  warnings.warn(\"Maximum Likelihood optimization failed to \"\n",
      "c:\\users\\marsolis\\appdata\\local\\programs\\python\\python38\\lib\\site-packages\\statsmodels\\base\\model.py:566: ConvergenceWarning: Maximum Likelihood optimization failed to converge. Check mle_retvals\n",
      "  warnings.warn(\"Maximum Likelihood optimization failed to \"\n",
      "c:\\users\\marsolis\\appdata\\local\\programs\\python\\python38\\lib\\site-packages\\statsmodels\\base\\model.py:566: ConvergenceWarning: Maximum Likelihood optimization failed to converge. Check mle_retvals\n",
      "  warnings.warn(\"Maximum Likelihood optimization failed to \"\n"
     ]
    },
    {
     "name": "stdout",
     "output_type": "stream",
     "text": [
      "making repetetition: 9 from horizon: 3\n"
     ]
    },
    {
     "name": "stderr",
     "output_type": "stream",
     "text": [
      "c:\\users\\marsolis\\appdata\\local\\programs\\python\\python38\\lib\\site-packages\\statsmodels\\tsa\\exponential_smoothing\\ets.py:1135: RuntimeWarning: invalid value encountered in log\n",
      "  logL -= np.sum(np.log(yhat))\n",
      "c:\\users\\marsolis\\appdata\\local\\programs\\python\\python38\\lib\\site-packages\\scipy\\optimize\\_numdiff.py:557: RuntimeWarning: invalid value encountered in subtract\n",
      "  df = fun(x) - f0\n",
      "c:\\users\\marsolis\\appdata\\local\\programs\\python\\python38\\lib\\site-packages\\statsmodels\\base\\model.py:566: ConvergenceWarning: Maximum Likelihood optimization failed to converge. Check mle_retvals\n",
      "  warnings.warn(\"Maximum Likelihood optimization failed to \"\n",
      "c:\\users\\marsolis\\appdata\\local\\programs\\python\\python38\\lib\\site-packages\\statsmodels\\base\\model.py:566: ConvergenceWarning: Maximum Likelihood optimization failed to converge. Check mle_retvals\n",
      "  warnings.warn(\"Maximum Likelihood optimization failed to \"\n",
      "c:\\users\\marsolis\\appdata\\local\\programs\\python\\python38\\lib\\site-packages\\statsmodels\\base\\model.py:566: ConvergenceWarning: Maximum Likelihood optimization failed to converge. Check mle_retvals\n",
      "  warnings.warn(\"Maximum Likelihood optimization failed to \"\n",
      "c:\\users\\marsolis\\appdata\\local\\programs\\python\\python38\\lib\\site-packages\\statsmodels\\base\\model.py:566: ConvergenceWarning: Maximum Likelihood optimization failed to converge. Check mle_retvals\n",
      "  warnings.warn(\"Maximum Likelihood optimization failed to \"\n"
     ]
    },
    {
     "name": "stdout",
     "output_type": "stream",
     "text": [
      "making horizon 12\n",
      "making repetetition: 0 from horizon: 12\n"
     ]
    },
    {
     "name": "stderr",
     "output_type": "stream",
     "text": [
      "c:\\users\\marsolis\\appdata\\local\\programs\\python\\python38\\lib\\site-packages\\statsmodels\\tsa\\exponential_smoothing\\ets.py:1135: RuntimeWarning: invalid value encountered in log\n",
      "  logL -= np.sum(np.log(yhat))\n",
      "c:\\users\\marsolis\\appdata\\local\\programs\\python\\python38\\lib\\site-packages\\scipy\\optimize\\_numdiff.py:557: RuntimeWarning: invalid value encountered in subtract\n",
      "  df = fun(x) - f0\n",
      "c:\\users\\marsolis\\appdata\\local\\programs\\python\\python38\\lib\\site-packages\\statsmodels\\base\\model.py:566: ConvergenceWarning: Maximum Likelihood optimization failed to converge. Check mle_retvals\n",
      "  warnings.warn(\"Maximum Likelihood optimization failed to \"\n",
      "c:\\users\\marsolis\\appdata\\local\\programs\\python\\python38\\lib\\site-packages\\statsmodels\\base\\model.py:566: ConvergenceWarning: Maximum Likelihood optimization failed to converge. Check mle_retvals\n",
      "  warnings.warn(\"Maximum Likelihood optimization failed to \"\n",
      "c:\\users\\marsolis\\appdata\\local\\programs\\python\\python38\\lib\\site-packages\\statsmodels\\base\\model.py:566: ConvergenceWarning: Maximum Likelihood optimization failed to converge. Check mle_retvals\n",
      "  warnings.warn(\"Maximum Likelihood optimization failed to \"\n",
      "c:\\users\\marsolis\\appdata\\local\\programs\\python\\python38\\lib\\site-packages\\statsmodels\\base\\model.py:566: ConvergenceWarning: Maximum Likelihood optimization failed to converge. Check mle_retvals\n",
      "  warnings.warn(\"Maximum Likelihood optimization failed to \"\n"
     ]
    },
    {
     "name": "stdout",
     "output_type": "stream",
     "text": [
      "making repetetition: 1 from horizon: 12\n"
     ]
    },
    {
     "name": "stderr",
     "output_type": "stream",
     "text": [
      "c:\\users\\marsolis\\appdata\\local\\programs\\python\\python38\\lib\\site-packages\\statsmodels\\tsa\\exponential_smoothing\\ets.py:1135: RuntimeWarning: invalid value encountered in log\n",
      "  logL -= np.sum(np.log(yhat))\n",
      "c:\\users\\marsolis\\appdata\\local\\programs\\python\\python38\\lib\\site-packages\\scipy\\optimize\\_numdiff.py:557: RuntimeWarning: invalid value encountered in subtract\n",
      "  df = fun(x) - f0\n",
      "c:\\users\\marsolis\\appdata\\local\\programs\\python\\python38\\lib\\site-packages\\statsmodels\\base\\model.py:566: ConvergenceWarning: Maximum Likelihood optimization failed to converge. Check mle_retvals\n",
      "  warnings.warn(\"Maximum Likelihood optimization failed to \"\n",
      "c:\\users\\marsolis\\appdata\\local\\programs\\python\\python38\\lib\\site-packages\\statsmodels\\base\\model.py:566: ConvergenceWarning: Maximum Likelihood optimization failed to converge. Check mle_retvals\n",
      "  warnings.warn(\"Maximum Likelihood optimization failed to \"\n",
      "c:\\users\\marsolis\\appdata\\local\\programs\\python\\python38\\lib\\site-packages\\statsmodels\\base\\model.py:566: ConvergenceWarning: Maximum Likelihood optimization failed to converge. Check mle_retvals\n",
      "  warnings.warn(\"Maximum Likelihood optimization failed to \"\n",
      "c:\\users\\marsolis\\appdata\\local\\programs\\python\\python38\\lib\\site-packages\\statsmodels\\base\\model.py:566: ConvergenceWarning: Maximum Likelihood optimization failed to converge. Check mle_retvals\n",
      "  warnings.warn(\"Maximum Likelihood optimization failed to \"\n"
     ]
    },
    {
     "name": "stdout",
     "output_type": "stream",
     "text": [
      "making repetetition: 2 from horizon: 12\n"
     ]
    },
    {
     "name": "stderr",
     "output_type": "stream",
     "text": [
      "c:\\users\\marsolis\\appdata\\local\\programs\\python\\python38\\lib\\site-packages\\statsmodels\\tsa\\exponential_smoothing\\ets.py:1135: RuntimeWarning: invalid value encountered in log\n",
      "  logL -= np.sum(np.log(yhat))\n",
      "c:\\users\\marsolis\\appdata\\local\\programs\\python\\python38\\lib\\site-packages\\scipy\\optimize\\_numdiff.py:557: RuntimeWarning: invalid value encountered in subtract\n",
      "  df = fun(x) - f0\n",
      "c:\\users\\marsolis\\appdata\\local\\programs\\python\\python38\\lib\\site-packages\\statsmodels\\base\\model.py:566: ConvergenceWarning: Maximum Likelihood optimization failed to converge. Check mle_retvals\n",
      "  warnings.warn(\"Maximum Likelihood optimization failed to \"\n",
      "c:\\users\\marsolis\\appdata\\local\\programs\\python\\python38\\lib\\site-packages\\statsmodels\\base\\model.py:566: ConvergenceWarning: Maximum Likelihood optimization failed to converge. Check mle_retvals\n",
      "  warnings.warn(\"Maximum Likelihood optimization failed to \"\n",
      "c:\\users\\marsolis\\appdata\\local\\programs\\python\\python38\\lib\\site-packages\\statsmodels\\base\\model.py:566: ConvergenceWarning: Maximum Likelihood optimization failed to converge. Check mle_retvals\n",
      "  warnings.warn(\"Maximum Likelihood optimization failed to \"\n",
      "c:\\users\\marsolis\\appdata\\local\\programs\\python\\python38\\lib\\site-packages\\statsmodels\\base\\model.py:566: ConvergenceWarning: Maximum Likelihood optimization failed to converge. Check mle_retvals\n",
      "  warnings.warn(\"Maximum Likelihood optimization failed to \"\n"
     ]
    },
    {
     "name": "stdout",
     "output_type": "stream",
     "text": [
      "making repetetition: 3 from horizon: 12\n"
     ]
    },
    {
     "name": "stderr",
     "output_type": "stream",
     "text": [
      "c:\\users\\marsolis\\appdata\\local\\programs\\python\\python38\\lib\\site-packages\\statsmodels\\tsa\\exponential_smoothing\\ets.py:1135: RuntimeWarning: invalid value encountered in log\n",
      "  logL -= np.sum(np.log(yhat))\n",
      "c:\\users\\marsolis\\appdata\\local\\programs\\python\\python38\\lib\\site-packages\\scipy\\optimize\\_numdiff.py:557: RuntimeWarning: invalid value encountered in subtract\n",
      "  df = fun(x) - f0\n",
      "c:\\users\\marsolis\\appdata\\local\\programs\\python\\python38\\lib\\site-packages\\statsmodels\\base\\model.py:566: ConvergenceWarning: Maximum Likelihood optimization failed to converge. Check mle_retvals\n",
      "  warnings.warn(\"Maximum Likelihood optimization failed to \"\n",
      "c:\\users\\marsolis\\appdata\\local\\programs\\python\\python38\\lib\\site-packages\\statsmodels\\base\\model.py:566: ConvergenceWarning: Maximum Likelihood optimization failed to converge. Check mle_retvals\n",
      "  warnings.warn(\"Maximum Likelihood optimization failed to \"\n",
      "c:\\users\\marsolis\\appdata\\local\\programs\\python\\python38\\lib\\site-packages\\statsmodels\\base\\model.py:566: ConvergenceWarning: Maximum Likelihood optimization failed to converge. Check mle_retvals\n",
      "  warnings.warn(\"Maximum Likelihood optimization failed to \"\n",
      "c:\\users\\marsolis\\appdata\\local\\programs\\python\\python38\\lib\\site-packages\\statsmodels\\base\\model.py:566: ConvergenceWarning: Maximum Likelihood optimization failed to converge. Check mle_retvals\n",
      "  warnings.warn(\"Maximum Likelihood optimization failed to \"\n"
     ]
    },
    {
     "name": "stdout",
     "output_type": "stream",
     "text": [
      "making repetetition: 4 from horizon: 12\n"
     ]
    },
    {
     "name": "stderr",
     "output_type": "stream",
     "text": [
      "c:\\users\\marsolis\\appdata\\local\\programs\\python\\python38\\lib\\site-packages\\statsmodels\\tsa\\exponential_smoothing\\ets.py:1135: RuntimeWarning: invalid value encountered in log\n",
      "  logL -= np.sum(np.log(yhat))\n",
      "c:\\users\\marsolis\\appdata\\local\\programs\\python\\python38\\lib\\site-packages\\scipy\\optimize\\_numdiff.py:557: RuntimeWarning: invalid value encountered in subtract\n",
      "  df = fun(x) - f0\n",
      "c:\\users\\marsolis\\appdata\\local\\programs\\python\\python38\\lib\\site-packages\\statsmodels\\base\\model.py:566: ConvergenceWarning: Maximum Likelihood optimization failed to converge. Check mle_retvals\n",
      "  warnings.warn(\"Maximum Likelihood optimization failed to \"\n",
      "c:\\users\\marsolis\\appdata\\local\\programs\\python\\python38\\lib\\site-packages\\statsmodels\\base\\model.py:566: ConvergenceWarning: Maximum Likelihood optimization failed to converge. Check mle_retvals\n",
      "  warnings.warn(\"Maximum Likelihood optimization failed to \"\n",
      "c:\\users\\marsolis\\appdata\\local\\programs\\python\\python38\\lib\\site-packages\\statsmodels\\base\\model.py:566: ConvergenceWarning: Maximum Likelihood optimization failed to converge. Check mle_retvals\n",
      "  warnings.warn(\"Maximum Likelihood optimization failed to \"\n",
      "c:\\users\\marsolis\\appdata\\local\\programs\\python\\python38\\lib\\site-packages\\statsmodels\\base\\model.py:566: ConvergenceWarning: Maximum Likelihood optimization failed to converge. Check mle_retvals\n",
      "  warnings.warn(\"Maximum Likelihood optimization failed to \"\n"
     ]
    },
    {
     "name": "stdout",
     "output_type": "stream",
     "text": [
      "making repetetition: 5 from horizon: 12\n"
     ]
    },
    {
     "name": "stderr",
     "output_type": "stream",
     "text": [
      "c:\\users\\marsolis\\appdata\\local\\programs\\python\\python38\\lib\\site-packages\\statsmodels\\tsa\\exponential_smoothing\\ets.py:1135: RuntimeWarning: invalid value encountered in log\n",
      "  logL -= np.sum(np.log(yhat))\n",
      "c:\\users\\marsolis\\appdata\\local\\programs\\python\\python38\\lib\\site-packages\\scipy\\optimize\\_numdiff.py:557: RuntimeWarning: invalid value encountered in subtract\n",
      "  df = fun(x) - f0\n",
      "c:\\users\\marsolis\\appdata\\local\\programs\\python\\python38\\lib\\site-packages\\statsmodels\\base\\model.py:566: ConvergenceWarning: Maximum Likelihood optimization failed to converge. Check mle_retvals\n",
      "  warnings.warn(\"Maximum Likelihood optimization failed to \"\n",
      "c:\\users\\marsolis\\appdata\\local\\programs\\python\\python38\\lib\\site-packages\\statsmodels\\base\\model.py:566: ConvergenceWarning: Maximum Likelihood optimization failed to converge. Check mle_retvals\n",
      "  warnings.warn(\"Maximum Likelihood optimization failed to \"\n",
      "c:\\users\\marsolis\\appdata\\local\\programs\\python\\python38\\lib\\site-packages\\statsmodels\\base\\model.py:566: ConvergenceWarning: Maximum Likelihood optimization failed to converge. Check mle_retvals\n",
      "  warnings.warn(\"Maximum Likelihood optimization failed to \"\n",
      "c:\\users\\marsolis\\appdata\\local\\programs\\python\\python38\\lib\\site-packages\\statsmodels\\base\\model.py:566: ConvergenceWarning: Maximum Likelihood optimization failed to converge. Check mle_retvals\n",
      "  warnings.warn(\"Maximum Likelihood optimization failed to \"\n"
     ]
    },
    {
     "name": "stdout",
     "output_type": "stream",
     "text": [
      "making repetetition: 6 from horizon: 12\n"
     ]
    },
    {
     "name": "stderr",
     "output_type": "stream",
     "text": [
      "c:\\users\\marsolis\\appdata\\local\\programs\\python\\python38\\lib\\site-packages\\statsmodels\\tsa\\exponential_smoothing\\ets.py:1135: RuntimeWarning: invalid value encountered in log\n",
      "  logL -= np.sum(np.log(yhat))\n",
      "c:\\users\\marsolis\\appdata\\local\\programs\\python\\python38\\lib\\site-packages\\scipy\\optimize\\_numdiff.py:557: RuntimeWarning: invalid value encountered in subtract\n",
      "  df = fun(x) - f0\n",
      "c:\\users\\marsolis\\appdata\\local\\programs\\python\\python38\\lib\\site-packages\\statsmodels\\base\\model.py:566: ConvergenceWarning: Maximum Likelihood optimization failed to converge. Check mle_retvals\n",
      "  warnings.warn(\"Maximum Likelihood optimization failed to \"\n",
      "c:\\users\\marsolis\\appdata\\local\\programs\\python\\python38\\lib\\site-packages\\statsmodels\\base\\model.py:566: ConvergenceWarning: Maximum Likelihood optimization failed to converge. Check mle_retvals\n",
      "  warnings.warn(\"Maximum Likelihood optimization failed to \"\n",
      "c:\\users\\marsolis\\appdata\\local\\programs\\python\\python38\\lib\\site-packages\\statsmodels\\base\\model.py:566: ConvergenceWarning: Maximum Likelihood optimization failed to converge. Check mle_retvals\n",
      "  warnings.warn(\"Maximum Likelihood optimization failed to \"\n",
      "c:\\users\\marsolis\\appdata\\local\\programs\\python\\python38\\lib\\site-packages\\statsmodels\\base\\model.py:566: ConvergenceWarning: Maximum Likelihood optimization failed to converge. Check mle_retvals\n",
      "  warnings.warn(\"Maximum Likelihood optimization failed to \"\n"
     ]
    },
    {
     "name": "stdout",
     "output_type": "stream",
     "text": [
      "making repetetition: 7 from horizon: 12\n"
     ]
    },
    {
     "name": "stderr",
     "output_type": "stream",
     "text": [
      "c:\\users\\marsolis\\appdata\\local\\programs\\python\\python38\\lib\\site-packages\\statsmodels\\tsa\\exponential_smoothing\\ets.py:1135: RuntimeWarning: invalid value encountered in log\n",
      "  logL -= np.sum(np.log(yhat))\n",
      "c:\\users\\marsolis\\appdata\\local\\programs\\python\\python38\\lib\\site-packages\\scipy\\optimize\\_numdiff.py:557: RuntimeWarning: invalid value encountered in subtract\n",
      "  df = fun(x) - f0\n",
      "c:\\users\\marsolis\\appdata\\local\\programs\\python\\python38\\lib\\site-packages\\statsmodels\\base\\model.py:566: ConvergenceWarning: Maximum Likelihood optimization failed to converge. Check mle_retvals\n",
      "  warnings.warn(\"Maximum Likelihood optimization failed to \"\n",
      "c:\\users\\marsolis\\appdata\\local\\programs\\python\\python38\\lib\\site-packages\\statsmodels\\base\\model.py:566: ConvergenceWarning: Maximum Likelihood optimization failed to converge. Check mle_retvals\n",
      "  warnings.warn(\"Maximum Likelihood optimization failed to \"\n",
      "c:\\users\\marsolis\\appdata\\local\\programs\\python\\python38\\lib\\site-packages\\statsmodels\\base\\model.py:566: ConvergenceWarning: Maximum Likelihood optimization failed to converge. Check mle_retvals\n",
      "  warnings.warn(\"Maximum Likelihood optimization failed to \"\n",
      "c:\\users\\marsolis\\appdata\\local\\programs\\python\\python38\\lib\\site-packages\\statsmodels\\base\\model.py:566: ConvergenceWarning: Maximum Likelihood optimization failed to converge. Check mle_retvals\n",
      "  warnings.warn(\"Maximum Likelihood optimization failed to \"\n"
     ]
    },
    {
     "name": "stdout",
     "output_type": "stream",
     "text": [
      "making repetetition: 8 from horizon: 12\n"
     ]
    },
    {
     "name": "stderr",
     "output_type": "stream",
     "text": [
      "c:\\users\\marsolis\\appdata\\local\\programs\\python\\python38\\lib\\site-packages\\statsmodels\\tsa\\exponential_smoothing\\ets.py:1135: RuntimeWarning: invalid value encountered in log\n",
      "  logL -= np.sum(np.log(yhat))\n",
      "c:\\users\\marsolis\\appdata\\local\\programs\\python\\python38\\lib\\site-packages\\scipy\\optimize\\_numdiff.py:557: RuntimeWarning: invalid value encountered in subtract\n",
      "  df = fun(x) - f0\n",
      "c:\\users\\marsolis\\appdata\\local\\programs\\python\\python38\\lib\\site-packages\\statsmodels\\base\\model.py:566: ConvergenceWarning: Maximum Likelihood optimization failed to converge. Check mle_retvals\n",
      "  warnings.warn(\"Maximum Likelihood optimization failed to \"\n",
      "c:\\users\\marsolis\\appdata\\local\\programs\\python\\python38\\lib\\site-packages\\statsmodels\\base\\model.py:566: ConvergenceWarning: Maximum Likelihood optimization failed to converge. Check mle_retvals\n",
      "  warnings.warn(\"Maximum Likelihood optimization failed to \"\n",
      "c:\\users\\marsolis\\appdata\\local\\programs\\python\\python38\\lib\\site-packages\\statsmodels\\base\\model.py:566: ConvergenceWarning: Maximum Likelihood optimization failed to converge. Check mle_retvals\n",
      "  warnings.warn(\"Maximum Likelihood optimization failed to \"\n",
      "c:\\users\\marsolis\\appdata\\local\\programs\\python\\python38\\lib\\site-packages\\statsmodels\\base\\model.py:566: ConvergenceWarning: Maximum Likelihood optimization failed to converge. Check mle_retvals\n",
      "  warnings.warn(\"Maximum Likelihood optimization failed to \"\n"
     ]
    },
    {
     "name": "stdout",
     "output_type": "stream",
     "text": [
      "making repetetition: 9 from horizon: 12\n"
     ]
    },
    {
     "name": "stderr",
     "output_type": "stream",
     "text": [
      "c:\\users\\marsolis\\appdata\\local\\programs\\python\\python38\\lib\\site-packages\\statsmodels\\tsa\\exponential_smoothing\\ets.py:1135: RuntimeWarning: invalid value encountered in log\n",
      "  logL -= np.sum(np.log(yhat))\n",
      "c:\\users\\marsolis\\appdata\\local\\programs\\python\\python38\\lib\\site-packages\\scipy\\optimize\\_numdiff.py:557: RuntimeWarning: invalid value encountered in subtract\n",
      "  df = fun(x) - f0\n",
      "c:\\users\\marsolis\\appdata\\local\\programs\\python\\python38\\lib\\site-packages\\statsmodels\\base\\model.py:566: ConvergenceWarning: Maximum Likelihood optimization failed to converge. Check mle_retvals\n",
      "  warnings.warn(\"Maximum Likelihood optimization failed to \"\n",
      "c:\\users\\marsolis\\appdata\\local\\programs\\python\\python38\\lib\\site-packages\\statsmodels\\base\\model.py:566: ConvergenceWarning: Maximum Likelihood optimization failed to converge. Check mle_retvals\n",
      "  warnings.warn(\"Maximum Likelihood optimization failed to \"\n",
      "c:\\users\\marsolis\\appdata\\local\\programs\\python\\python38\\lib\\site-packages\\statsmodels\\base\\model.py:566: ConvergenceWarning: Maximum Likelihood optimization failed to converge. Check mle_retvals\n",
      "  warnings.warn(\"Maximum Likelihood optimization failed to \"\n",
      "c:\\users\\marsolis\\appdata\\local\\programs\\python\\python38\\lib\\site-packages\\statsmodels\\base\\model.py:566: ConvergenceWarning: Maximum Likelihood optimization failed to converge. Check mle_retvals\n",
      "  warnings.warn(\"Maximum Likelihood optimization failed to \"\n",
      "c:\\users\\marsolis\\appdata\\local\\programs\\python\\python38\\lib\\site-packages\\numpy\\core\\_asarray.py:136: VisibleDeprecationWarning: Creating an ndarray from ragged nested sequences (which is a list-or-tuple of lists-or-tuples-or ndarrays with different lengths or shapes) is deprecated. If you meant to do this, you must specify 'dtype=object' when creating the ndarray\n",
      "  return array(a, dtype, copy=False, order=order, subok=True)\n"
     ]
    }
   ],
   "source": [
    "#######################FMI\n",
    "\n",
    "dataset=read_csv('C:/META_LEARNING/Economicas/EconomicasFMI/economicas_normal_test.csv') # load complete dataset\n",
    "serie=dataset.iloc[0,:]\n",
    "serie.dropna(inplace=True)\n",
    "horizon=[3, 12]\n",
    "funciones=[ets, theta, arima2]\n",
    "rep=10\n",
    "pathSave='C:/META_LEARNING/resultados/economicas/backtesting/FMI/ESTD/'\n",
    "results,  predictionsList=estadisModelsBackTesting(serie, funciones, horizon, rep, pathSave)"
   ]
  },
  {
   "cell_type": "markdown",
   "id": "dd335b41",
   "metadata": {},
   "source": [
    "# metodo 2"
   ]
  },
  {
   "cell_type": "code",
   "execution_count": 20,
   "id": "35d9f10e",
   "metadata": {},
   "outputs": [
    {
     "name": "stdout",
     "output_type": "stream",
     "text": [
      "ERROR! Session/line number was not unique in database. History logging moved to new session 187\n"
     ]
    }
   ],
   "source": [
    "\n",
    "\n",
    "\n",
    "\n",
    "# Auto ETS\n",
    "def ets(tr):\n",
    "    modAutoETS = AutoETS(auto=True, initialization_method='heuristic', error='add', trend ='add', damped=True,seasonal='add' ,sp=12)\n",
    "    modAutoETS.fit(tr)\n",
    "    \n",
    "    return modAutoETS\n",
    "\n",
    "'''\n",
    "# Auto ETS\n",
    "def arima(tr):\n",
    "    modAutoARIMA = AutoARIMA(sp=12,d=1, max_p=5, max_q=5, max_P=5, max_Q=5,start_p=0, start_q=0 ,start_P=0,  start_Q=0,seasonal=True, stepwise=True, suppress_warnings=False, random_state=15)\n",
    "    modAutoARIMA.fit(tr)\n",
    "    \n",
    "    return modAutoARIMA\n",
    "'''\n",
    "\n",
    "\n",
    "\n",
    "# Auto ETS\n",
    "def arima2(tr):\n",
    "    modAutoARIMA = auto_arima(tr, seasonal=True, m=12, maxiter=25)    \n",
    "    return modAutoARIMA\n",
    "\n",
    "# Auto Theta\n",
    "def theta(tr):\n",
    "    modTheta = ThetaForecaster(sp=12)\n",
    "    modTheta.fit(tr)\n",
    "    return modTheta\n",
    "\n",
    "\n",
    "\n",
    "\n",
    "\n",
    "def estadisModelsBackTesting(serie, funciones, horizon, rep, pathSave):\n",
    "    #global mod, mod2, mod3\n",
    "    # list to save results\n",
    "    results=[]\n",
    "    predictionsList=[]\n",
    "    # Loop over each horizon\n",
    "    for h in horizon:\n",
    "        print('making horizon', h)\n",
    "        # horizon window\n",
    "        fh = np.arange(1, h+1) \n",
    "        fh2=int(h)\n",
    "        # index to finish training and begin testing\n",
    "        finTr=int(serie.shape[0]-(h*rep))\n",
    "        for i in range(rep):\n",
    "            print('making repetetition:', i, 'from horizon:', h)\n",
    "            # Divide serie in training and test\n",
    "            tr=serie[1:finTr]\n",
    "            te=serie[finTr:(finTr+h)]\n",
    "            tr=tr.values\n",
    "            te=te.values\n",
    "            # Condition for the First repetition\n",
    "            if i==0:\n",
    "            \n",
    "                # execute each function\n",
    "                for f in funciones:\n",
    "                    # make prediction\n",
    "                    if f==arima2:\n",
    "                        mod=f(tr)\n",
    "                        pre=mod.predict(fh2)\n",
    "                    elif f==ets:\n",
    "                        mod2=f(tr)\n",
    "                        pre=mod2.predict(fh)    \n",
    "                    else:\n",
    "                        mod3=f(tr)\n",
    "                        pre=mod3.predict(fh)    \n",
    "                    # transpose prediction\n",
    "                    preF=np.transpose(pre)\n",
    "                    #  save prediction\n",
    "                    predictionsList.append(preF)\n",
    "                    # metrics\n",
    "                    results.append(metrics(preF, te.reshape(1,-1)))\n",
    "                # update count for backtesting\n",
    "                finTr=int(finTr+h)  \n",
    "            else:\n",
    "                # execute each function\n",
    "                for f in funciones:\n",
    "                    # make prediction\n",
    "                    if f==arima2:\n",
    "                        mod.fit(tr, maxiter=25)\n",
    "                        pre=mod.predict(fh2)\n",
    "                    elif f==ets:\n",
    "                        pre=mod2.update_predict_single(y=tr, fh=fh)    \n",
    "                    else:\n",
    "                        pre=mod3.update_predict_single(y=tr, fh=fh)\n",
    "                    # transpose prediction\n",
    "                    preF=np.transpose(pre)\n",
    "                    #  save prediction\n",
    "                    predictionsList.append(preF)\n",
    "                    # metrics\n",
    "                    results.append(metrics(preF, te))\n",
    "                # update count for backtesting\n",
    "                finTr=int(finTr+h)  \n",
    "                \n",
    "   \n",
    "    # Final format of the metrics file  #######################################REVISAR DESDE AQUI\n",
    "    results=pd.DataFrame(results) \n",
    "    results.insert(0, \"id_serie\", np.repeat(int(serie[0]),len(results)), True)\n",
    "    results.insert(1,\"rep\", np.tile(np.repeat(np.arange(rep),len(funciones)),len(horizon)), True)\n",
    "    results.insert(2, \"id_model\",np.tile(['ets', 'theta', 'arima'], (len(horizon)*rep)) , True) #####\n",
    "    results.insert(3, \"output\",np.repeat(horizon,len(funciones)*rep), True)\n",
    "    results.columns=['id_serie', \"rep\", 'id_model', 'output', 'sMAPE', 'MASE', 'MAPE']\n",
    "    \n",
    "    \n",
    "    results.to_csv(pathSave+'met/'+'metricasEstad_'+str(int(serie[0])) +'.csv')\n",
    "    np.save(pathSave+'pred/'+'predictionsListEstad'+str(int(serie[0]))+'.npy',  predictionsList, allow_pickle=True) \n",
    "   \n",
    "    return results,  predictionsList\n",
    "\n",
    "\n",
    "\n",
    "\n",
    "def  estadisModelsBackTestingParallel(dataset, rep, ids, pathSave, core):\n",
    "    parametros=[]\n",
    "    for k in range(ids.shape[0]):\n",
    "        serie=dataset.loc[dataset['Unnamed: 0']==int(ids[k])]\n",
    "        serie=serie.iloc[0]\n",
    "        serie.dropna(inplace=True)\n",
    "        parametros.append([serie, funciones,horizon, rep, pathSave])\n",
    "    \n",
    "    reTot=Parallel(n_jobs=core)(delayed(estadisModelsBackTesting)(serie, funciones, horizon,rep, pathSave) for serie, funciones, horizon, rep, pathSave in parametros)\n",
    "    # generating empty arrays to append results\n",
    "    metrics=np.empty((0,reTot[0][0].shape[1]))\n",
    "    lPred=[]\n",
    "    # append results \n",
    "    for k in range(len(reTot)):\n",
    "        # append in arrays\n",
    "        metrics=np.append(metrics, reTot[k][0], axis=0)\n",
    "        lPred=lPred+reTot[k][1]   \n",
    "    \n",
    "    #save datasets\n",
    "    metrics=pd.DataFrame(metrics)\n",
    "    metrics.columns=['id_serie', \"rep\", 'id_model', 'output', 'sMAPE', 'MASE', 'MAPE']\n",
    "    metrics.to_csv(pathSave+'metricasEstad.csv')\n",
    "    np.save(pathSave+'predictionsListEstad.npy', lPred, allow_pickle=True) \n",
    "        \n",
    "    return metrics, lPred"
   ]
  },
  {
   "cell_type": "code",
   "execution_count": 11,
   "id": "8cb1da6e",
   "metadata": {},
   "outputs": [
    {
     "name": "stderr",
     "output_type": "stream",
     "text": [
      "C:\\Users\\marti\\AppData\\Local\\Temp\\ipykernel_21736\\1235332325.py:3: SettingWithCopyWarning: \n",
      "A value is trying to be set on a copy of a slice from a DataFrame\n",
      "\n",
      "See the caveats in the documentation: https://pandas.pydata.org/pandas-docs/stable/user_guide/indexing.html#returning-a-view-versus-a-copy\n",
      "  serie.dropna(inplace=True)\n",
      "c:\\python385\\lib\\site-packages\\sktime\\forecasting\\base\\adapters\\_statsmodels.py:50: FutureWarning: pandas.Int64Index is deprecated and will be removed from pandas in a future version. Use pandas.Index with the appropriate dtype instead.\n",
      "  if isinstance(y, pd.Series) and type(y.index) == pd.Int64Index:\n",
      "c:\\python385\\lib\\site-packages\\sktime\\forecasting\\base\\_fh.py:100: FutureWarning: pandas.Int64Index is deprecated and will be removed from pandas in a future version. Use pandas.Index with the appropriate dtype instead.\n",
      "  values = pd.Int64Index(values, dtype=int)\n",
      "c:\\python385\\lib\\site-packages\\sktime\\forecasting\\base\\adapters\\_statsmodels.py:50: FutureWarning: pandas.Int64Index is deprecated and will be removed from pandas in a future version. Use pandas.Index with the appropriate dtype instead.\n",
      "  if isinstance(y, pd.Series) and type(y.index) == pd.Int64Index:\n",
      "c:\\python385\\lib\\site-packages\\sktime\\forecasting\\base\\_fh.py:100: FutureWarning: pandas.Int64Index is deprecated and will be removed from pandas in a future version. Use pandas.Index with the appropriate dtype instead.\n",
      "  values = pd.Int64Index(values, dtype=int)\n"
     ]
    },
    {
     "name": "stdout",
     "output_type": "stream",
     "text": [
      "making horizon 3\n",
      "making repetetition: 0 from horizon: 3\n"
     ]
    },
    {
     "name": "stderr",
     "output_type": "stream",
     "text": [
      "c:\\python385\\lib\\site-packages\\numpy\\core\\fromnumeric.py:3440: RuntimeWarning: Mean of empty slice.\n",
      "  return _methods._mean(a, axis=axis, dtype=dtype,\n",
      "c:\\python385\\lib\\site-packages\\numpy\\core\\_methods.py:189: RuntimeWarning: invalid value encountered in double_scalars\n",
      "  ret = ret.dtype.type(ret / rcount)\n",
      "c:\\python385\\lib\\site-packages\\sktime\\forecasting\\base\\_fh.py:100: FutureWarning: pandas.Int64Index is deprecated and will be removed from pandas in a future version. Use pandas.Index with the appropriate dtype instead.\n",
      "  values = pd.Int64Index(values, dtype=int)\n",
      "c:\\python385\\lib\\site-packages\\sktime\\forecasting\\base\\_base.py:1256: UserWarning: NotImplementedWarning: AutoETS does not have a custom `update` method implemented. AutoETS will be refit each time `update` is called.\n",
      "  warn(\n",
      "c:\\python385\\lib\\site-packages\\sktime\\forecasting\\base\\adapters\\_statsmodels.py:50: FutureWarning: pandas.Int64Index is deprecated and will be removed from pandas in a future version. Use pandas.Index with the appropriate dtype instead.\n",
      "  if isinstance(y, pd.Series) and type(y.index) == pd.Int64Index:\n"
     ]
    },
    {
     "name": "stdout",
     "output_type": "stream",
     "text": [
      "making repetetition: 1 from horizon: 3\n"
     ]
    },
    {
     "ename": "ValueError",
     "evalue": "Length of values (1) does not match length of index (3)",
     "output_type": "error",
     "traceback": [
      "\u001b[1;31m---------------------------------------------------------------------------\u001b[0m",
      "\u001b[1;31mValueError\u001b[0m                                Traceback (most recent call last)",
      "Input \u001b[1;32mIn [11]\u001b[0m, in \u001b[0;36m<cell line: 10>\u001b[1;34m()\u001b[0m\n\u001b[0;32m      7\u001b[0m rep\u001b[38;5;241m=\u001b[39m\u001b[38;5;241m2\u001b[39m\n\u001b[0;32m      9\u001b[0m pathSave\u001b[38;5;241m=\u001b[39m\u001b[38;5;124m'\u001b[39m\u001b[38;5;124mC:/META_LEARNING/resultados/economicas/backtesting/ESTD/prueba/\u001b[39m\u001b[38;5;124m'\u001b[39m\n\u001b[1;32m---> 10\u001b[0m results,  predictionsList\u001b[38;5;241m=\u001b[39m\u001b[43mestadisModelsBackTesting\u001b[49m\u001b[43m(\u001b[49m\u001b[43mserie\u001b[49m\u001b[43m,\u001b[49m\u001b[43m \u001b[49m\u001b[43mfunciones\u001b[49m\u001b[43m,\u001b[49m\u001b[43m \u001b[49m\u001b[43mhorizon\u001b[49m\u001b[43m,\u001b[49m\u001b[43m \u001b[49m\u001b[43mrep\u001b[49m\u001b[43m,\u001b[49m\u001b[43m \u001b[49m\u001b[43mpathSave\u001b[49m\u001b[43m)\u001b[49m\n",
      "Input \u001b[1;32mIn [7]\u001b[0m, in \u001b[0;36mestadisModelsBackTesting\u001b[1;34m(serie, funciones, horizon, rep, pathSave)\u001b[0m\n\u001b[0;32m     91\u001b[0m     predictionsList\u001b[38;5;241m.\u001b[39mappend(preF)\n\u001b[0;32m     92\u001b[0m     \u001b[38;5;66;03m# metrics\u001b[39;00m\n\u001b[1;32m---> 93\u001b[0m     results\u001b[38;5;241m.\u001b[39mappend(\u001b[43mmetrics\u001b[49m\u001b[43m(\u001b[49m\u001b[43mpreF\u001b[49m\u001b[43m,\u001b[49m\u001b[43m \u001b[49m\u001b[43mte\u001b[49m\u001b[38;5;241;43m.\u001b[39;49m\u001b[43mreshape\u001b[49m\u001b[43m(\u001b[49m\u001b[38;5;241;43m1\u001b[39;49m\u001b[43m,\u001b[49m\u001b[38;5;241;43m-\u001b[39;49m\u001b[38;5;241;43m1\u001b[39;49m\u001b[43m)\u001b[49m\u001b[43m)\u001b[49m)\n\u001b[0;32m     94\u001b[0m \u001b[38;5;66;03m# update count for backtesting\u001b[39;00m\n\u001b[0;32m     95\u001b[0m finTr\u001b[38;5;241m=\u001b[39m\u001b[38;5;28mint\u001b[39m(finTr\u001b[38;5;241m+\u001b[39mh)  \n",
      "Input \u001b[1;32mIn [10]\u001b[0m, in \u001b[0;36mmetrics\u001b[1;34m(pre, real)\u001b[0m\n\u001b[0;32m    106\u001b[0m \u001b[38;5;28;01mdef\u001b[39;00m \u001b[38;5;21mmetrics\u001b[39m(pre, real):\n\u001b[0;32m    107\u001b[0m     \n\u001b[0;32m    108\u001b[0m     \u001b[38;5;66;03m# sMAPE\u001b[39;00m\n\u001b[1;32m--> 109\u001b[0m     sMAPE\u001b[38;5;241m=\u001b[39mnp\u001b[38;5;241m.\u001b[39msum(np\u001b[38;5;241m.\u001b[39mabs(\u001b[43mpre\u001b[49m\u001b[38;5;241;43m-\u001b[39;49m\u001b[43mreal\u001b[49m))\u001b[38;5;241m/\u001b[39mnp\u001b[38;5;241m.\u001b[39msum((pre\u001b[38;5;241m+\u001b[39mreal))\n\u001b[0;32m    111\u001b[0m     \u001b[38;5;66;03m#MASE\u001b[39;00m\n\u001b[0;32m    113\u001b[0m     \u001b[38;5;28;01mif\u001b[39;00m \u001b[38;5;28mlen\u001b[39m(pre\u001b[38;5;241m.\u001b[39mshape)\u001b[38;5;241m>\u001b[39m\u001b[38;5;241m1\u001b[39m \u001b[38;5;129;01mand\u001b[39;00m pre\u001b[38;5;241m.\u001b[39mshape[\u001b[38;5;241m1\u001b[39m]\u001b[38;5;241m>\u001b[39m\u001b[38;5;241m1\u001b[39m :\n",
      "File \u001b[1;32mc:\\python385\\lib\\site-packages\\pandas\\core\\ops\\common.py:70\u001b[0m, in \u001b[0;36m_unpack_zerodim_and_defer.<locals>.new_method\u001b[1;34m(self, other)\u001b[0m\n\u001b[0;32m     66\u001b[0m             \u001b[38;5;28;01mreturn\u001b[39;00m \u001b[38;5;28mNotImplemented\u001b[39m\n\u001b[0;32m     68\u001b[0m other \u001b[38;5;241m=\u001b[39m item_from_zerodim(other)\n\u001b[1;32m---> 70\u001b[0m \u001b[38;5;28;01mreturn\u001b[39;00m \u001b[43mmethod\u001b[49m\u001b[43m(\u001b[49m\u001b[38;5;28;43mself\u001b[39;49m\u001b[43m,\u001b[49m\u001b[43m \u001b[49m\u001b[43mother\u001b[49m\u001b[43m)\u001b[49m\n",
      "File \u001b[1;32mc:\\python385\\lib\\site-packages\\pandas\\core\\arraylike.py:108\u001b[0m, in \u001b[0;36mOpsMixin.__sub__\u001b[1;34m(self, other)\u001b[0m\n\u001b[0;32m    106\u001b[0m \u001b[38;5;129m@unpack_zerodim_and_defer\u001b[39m(\u001b[38;5;124m\"\u001b[39m\u001b[38;5;124m__sub__\u001b[39m\u001b[38;5;124m\"\u001b[39m)\n\u001b[0;32m    107\u001b[0m \u001b[38;5;28;01mdef\u001b[39;00m \u001b[38;5;21m__sub__\u001b[39m(\u001b[38;5;28mself\u001b[39m, other):\n\u001b[1;32m--> 108\u001b[0m     \u001b[38;5;28;01mreturn\u001b[39;00m \u001b[38;5;28;43mself\u001b[39;49m\u001b[38;5;241;43m.\u001b[39;49m\u001b[43m_arith_method\u001b[49m\u001b[43m(\u001b[49m\u001b[43mother\u001b[49m\u001b[43m,\u001b[49m\u001b[43m \u001b[49m\u001b[43moperator\u001b[49m\u001b[38;5;241;43m.\u001b[39;49m\u001b[43msub\u001b[49m\u001b[43m)\u001b[49m\n",
      "File \u001b[1;32mc:\\python385\\lib\\site-packages\\pandas\\core\\series.py:5639\u001b[0m, in \u001b[0;36mSeries._arith_method\u001b[1;34m(self, other, op)\u001b[0m\n\u001b[0;32m   5637\u001b[0m \u001b[38;5;28;01mdef\u001b[39;00m \u001b[38;5;21m_arith_method\u001b[39m(\u001b[38;5;28mself\u001b[39m, other, op):\n\u001b[0;32m   5638\u001b[0m     \u001b[38;5;28mself\u001b[39m, other \u001b[38;5;241m=\u001b[39m ops\u001b[38;5;241m.\u001b[39malign_method_SERIES(\u001b[38;5;28mself\u001b[39m, other)\n\u001b[1;32m-> 5639\u001b[0m     \u001b[38;5;28;01mreturn\u001b[39;00m \u001b[43mbase\u001b[49m\u001b[38;5;241;43m.\u001b[39;49m\u001b[43mIndexOpsMixin\u001b[49m\u001b[38;5;241;43m.\u001b[39;49m\u001b[43m_arith_method\u001b[49m\u001b[43m(\u001b[49m\u001b[38;5;28;43mself\u001b[39;49m\u001b[43m,\u001b[49m\u001b[43m \u001b[49m\u001b[43mother\u001b[49m\u001b[43m,\u001b[49m\u001b[43m \u001b[49m\u001b[43mop\u001b[49m\u001b[43m)\u001b[49m\n",
      "File \u001b[1;32mc:\\python385\\lib\\site-packages\\pandas\\core\\base.py:1297\u001b[0m, in \u001b[0;36mIndexOpsMixin._arith_method\u001b[1;34m(self, other, op)\u001b[0m\n\u001b[0;32m   1294\u001b[0m \u001b[38;5;28;01mwith\u001b[39;00m np\u001b[38;5;241m.\u001b[39merrstate(\u001b[38;5;28mall\u001b[39m\u001b[38;5;241m=\u001b[39m\u001b[38;5;124m\"\u001b[39m\u001b[38;5;124mignore\u001b[39m\u001b[38;5;124m\"\u001b[39m):\n\u001b[0;32m   1295\u001b[0m     result \u001b[38;5;241m=\u001b[39m ops\u001b[38;5;241m.\u001b[39marithmetic_op(lvalues, rvalues, op)\n\u001b[1;32m-> 1297\u001b[0m \u001b[38;5;28;01mreturn\u001b[39;00m \u001b[38;5;28;43mself\u001b[39;49m\u001b[38;5;241;43m.\u001b[39;49m\u001b[43m_construct_result\u001b[49m\u001b[43m(\u001b[49m\u001b[43mresult\u001b[49m\u001b[43m,\u001b[49m\u001b[43m \u001b[49m\u001b[43mname\u001b[49m\u001b[38;5;241;43m=\u001b[39;49m\u001b[43mres_name\u001b[49m\u001b[43m)\u001b[49m\n",
      "File \u001b[1;32mc:\\python385\\lib\\site-packages\\pandas\\core\\series.py:3017\u001b[0m, in \u001b[0;36mSeries._construct_result\u001b[1;34m(self, result, name)\u001b[0m\n\u001b[0;32m   3013\u001b[0m     \u001b[38;5;28;01mreturn\u001b[39;00m (res1, res2)\n\u001b[0;32m   3015\u001b[0m \u001b[38;5;66;03m# We do not pass dtype to ensure that the Series constructor\u001b[39;00m\n\u001b[0;32m   3016\u001b[0m \u001b[38;5;66;03m#  does inference in the case where `result` has object-dtype.\u001b[39;00m\n\u001b[1;32m-> 3017\u001b[0m out \u001b[38;5;241m=\u001b[39m \u001b[38;5;28;43mself\u001b[39;49m\u001b[38;5;241;43m.\u001b[39;49m\u001b[43m_constructor\u001b[49m\u001b[43m(\u001b[49m\u001b[43mresult\u001b[49m\u001b[43m,\u001b[49m\u001b[43m \u001b[49m\u001b[43mindex\u001b[49m\u001b[38;5;241;43m=\u001b[39;49m\u001b[38;5;28;43mself\u001b[39;49m\u001b[38;5;241;43m.\u001b[39;49m\u001b[43mindex\u001b[49m\u001b[43m)\u001b[49m\n\u001b[0;32m   3018\u001b[0m out \u001b[38;5;241m=\u001b[39m out\u001b[38;5;241m.\u001b[39m__finalize__(\u001b[38;5;28mself\u001b[39m)\n\u001b[0;32m   3020\u001b[0m \u001b[38;5;66;03m# Set the result's name after __finalize__ is called because __finalize__\u001b[39;00m\n\u001b[0;32m   3021\u001b[0m \u001b[38;5;66;03m#  would set it back to self.name\u001b[39;00m\n",
      "File \u001b[1;32mc:\\python385\\lib\\site-packages\\pandas\\core\\series.py:442\u001b[0m, in \u001b[0;36mSeries.__init__\u001b[1;34m(self, data, index, dtype, name, copy, fastpath)\u001b[0m\n\u001b[0;32m    440\u001b[0m     index \u001b[38;5;241m=\u001b[39m default_index(\u001b[38;5;28mlen\u001b[39m(data))\n\u001b[0;32m    441\u001b[0m \u001b[38;5;28;01melif\u001b[39;00m is_list_like(data):\n\u001b[1;32m--> 442\u001b[0m     \u001b[43mcom\u001b[49m\u001b[38;5;241;43m.\u001b[39;49m\u001b[43mrequire_length_match\u001b[49m\u001b[43m(\u001b[49m\u001b[43mdata\u001b[49m\u001b[43m,\u001b[49m\u001b[43m \u001b[49m\u001b[43mindex\u001b[49m\u001b[43m)\u001b[49m\n\u001b[0;32m    444\u001b[0m \u001b[38;5;66;03m# create/copy the manager\u001b[39;00m\n\u001b[0;32m    445\u001b[0m \u001b[38;5;28;01mif\u001b[39;00m \u001b[38;5;28misinstance\u001b[39m(data, (SingleBlockManager, SingleArrayManager)):\n",
      "File \u001b[1;32mc:\\python385\\lib\\site-packages\\pandas\\core\\common.py:557\u001b[0m, in \u001b[0;36mrequire_length_match\u001b[1;34m(data, index)\u001b[0m\n\u001b[0;32m    553\u001b[0m \u001b[38;5;124;03m\"\"\"\u001b[39;00m\n\u001b[0;32m    554\u001b[0m \u001b[38;5;124;03mCheck the length of data matches the length of the index.\u001b[39;00m\n\u001b[0;32m    555\u001b[0m \u001b[38;5;124;03m\"\"\"\u001b[39;00m\n\u001b[0;32m    556\u001b[0m \u001b[38;5;28;01mif\u001b[39;00m \u001b[38;5;28mlen\u001b[39m(data) \u001b[38;5;241m!=\u001b[39m \u001b[38;5;28mlen\u001b[39m(index):\n\u001b[1;32m--> 557\u001b[0m     \u001b[38;5;28;01mraise\u001b[39;00m \u001b[38;5;167;01mValueError\u001b[39;00m(\n\u001b[0;32m    558\u001b[0m         \u001b[38;5;124m\"\u001b[39m\u001b[38;5;124mLength of values \u001b[39m\u001b[38;5;124m\"\u001b[39m\n\u001b[0;32m    559\u001b[0m         \u001b[38;5;124mf\u001b[39m\u001b[38;5;124m\"\u001b[39m\u001b[38;5;124m(\u001b[39m\u001b[38;5;132;01m{\u001b[39;00m\u001b[38;5;28mlen\u001b[39m(data)\u001b[38;5;132;01m}\u001b[39;00m\u001b[38;5;124m) \u001b[39m\u001b[38;5;124m\"\u001b[39m\n\u001b[0;32m    560\u001b[0m         \u001b[38;5;124m\"\u001b[39m\u001b[38;5;124mdoes not match length of index \u001b[39m\u001b[38;5;124m\"\u001b[39m\n\u001b[0;32m    561\u001b[0m         \u001b[38;5;124mf\u001b[39m\u001b[38;5;124m\"\u001b[39m\u001b[38;5;124m(\u001b[39m\u001b[38;5;132;01m{\u001b[39;00m\u001b[38;5;28mlen\u001b[39m(index)\u001b[38;5;132;01m}\u001b[39;00m\u001b[38;5;124m)\u001b[39m\u001b[38;5;124m\"\u001b[39m\n\u001b[0;32m    562\u001b[0m     )\n",
      "\u001b[1;31mValueError\u001b[0m: Length of values (1) does not match length of index (3)"
     ]
    }
   ],
   "source": [
    "dataset=read_csv('C:/META_LEARNING/Economicas/economicas.csv') # load complete dataset\n",
    "serie=dataset.iloc[0,:]\n",
    "serie.dropna(inplace=True)\n",
    "horizon=[3, 12]\n",
    "funciones=[ets, theta, arima2]\n",
    "#funciones=[ets, theta]\n",
    "rep=2\n",
    "\n",
    "pathSave='C:/META_LEARNING/resultados/economicas/backtesting/ESTD/prueba/'\n",
    "results,  predictionsList=estadisModelsBackTesting(serie, funciones, horizon, rep, pathSave)"
   ]
  },
  {
   "cell_type": "code",
   "execution_count": 21,
   "id": "4ecf443b",
   "metadata": {},
   "outputs": [
    {
     "name": "stderr",
     "output_type": "stream",
     "text": [
      "c:\\python385\\lib\\site-packages\\numpy\\lib\\npyio.py:528: VisibleDeprecationWarning: Creating an ndarray from ragged nested sequences (which is a list-or-tuple of lists-or-tuples-or ndarrays with different lengths or shapes) is deprecated. If you meant to do this, you must specify 'dtype=object' when creating the ndarray.\n",
      "  arr = np.asanyarray(arr)\n"
     ]
    }
   ],
   "source": [
    "dataset=read_csv('C:/META_LEARNING/Economicas/economicas.csv') # load complete dataset\n",
    "horizon=[3, 12]\n",
    "funciones=[ets, theta, arima2]\n",
    "rep=6\n",
    "ids=np.arange(12)\n",
    "core=6\n",
    "pathSave='C:/META_LEARNING/resultados/economicas/backtesting/ESTD/prueba/'\n",
    "\n",
    "metrics, lPred=estadisModelsBackTestingParallel(dataset, rep, ids, pathSave, core)"
   ]
  },
  {
   "cell_type": "code",
   "execution_count": null,
   "id": "59da3bf6",
   "metadata": {},
   "outputs": [],
   "source": [
    "serie= \n",
    "funciones= \n",
    "horizon= \n",
    "rep= \n",
    "pathSave="
   ]
  },
  {
   "cell_type": "code",
   "execution_count": 62,
   "id": "a541fdc7",
   "metadata": {},
   "outputs": [
    {
     "name": "stderr",
     "output_type": "stream",
     "text": [
      "<ipython-input-62-2dab3a626091>:3: SettingWithCopyWarning: \n",
      "A value is trying to be set on a copy of a slice from a DataFrame\n",
      "\n",
      "See the caveats in the documentation: https://pandas.pydata.org/pandas-docs/stable/user_guide/indexing.html#returning-a-view-versus-a-copy\n",
      "  serie.dropna(inplace=True)\n"
     ]
    }
   ],
   "source": [
    "dataset=read_csv('C:/META_LEARNING/Economicas/economicas.csv') # load complete dataset\n",
    "serie=dataset.iloc[7,:]\n",
    "serie.dropna(inplace=True)\n",
    "horizon=[3, 12]\n",
    "funciones=[ets, theta, arima2]\n",
    "#funciones=[ets, theta]\n",
    "rep=2"
   ]
  },
  {
   "cell_type": "code",
   "execution_count": 78,
   "id": "1b5889b1",
   "metadata": {},
   "outputs": [
    {
     "data": {
      "text/plain": [
       "(1, 12)"
      ]
     },
     "execution_count": 78,
     "metadata": {},
     "output_type": "execute_result"
    }
   ],
   "source": []
  },
  {
   "cell_type": "code",
   "execution_count": null,
   "id": "71f5f92f",
   "metadata": {},
   "outputs": [],
   "source": []
  }
 ],
 "metadata": {
  "kernelspec": {
   "display_name": "Python 3 (ipykernel)",
   "language": "python",
   "name": "python3"
  },
  "language_info": {
   "codemirror_mode": {
    "name": "ipython",
    "version": 3
   },
   "file_extension": ".py",
   "mimetype": "text/x-python",
   "name": "python",
   "nbconvert_exporter": "python",
   "pygments_lexer": "ipython3",
   "version": "3.8.7"
  }
 },
 "nbformat": 4,
 "nbformat_minor": 5
}
